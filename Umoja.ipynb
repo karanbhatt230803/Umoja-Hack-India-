{
  "nbformat": 4,
  "nbformat_minor": 0,
  "metadata": {
    "colab": {
      "provenance": []
    },
    "kernelspec": {
      "name": "python3",
      "display_name": "Python 3"
    },
    "language_info": {
      "name": "python"
    }
  },
  "cells": [
    {
      "cell_type": "markdown",
      "source": [
        "**Team**\n",
        "*   **Karan Bhatt**\n",
        "*   **Abha Rani**\n"
      ],
      "metadata": {
        "id": "Ht5CrG8F8_JM"
      }
    },
    {
      "cell_type": "markdown",
      "source": [
        "**Problem Statement:**\n",
        "Income inequality - when income is distributed in an uneven manner among a population - is a growing problem in developing nations across the world. With the rapid rise of AI and worker automation, this problem could continue to grow if steps are not taken to address the issue.\n",
        "\n",
        "\n",
        "---\n",
        "\n",
        "[umojahack](https://zindi.africa/competitions/umojahack-india-2022)\n",
        "\n",
        "---\n",
        "\n",
        "\n",
        "\n",
        "**The objective of this challenge is to create a machine learning model to predict whether an individual earns above or below a certain amount.**\n",
        "\n",
        "---\n",
        "\n",
        "\n",
        "\n",
        "This solution can potentially reduce the cost and improve the accuracy of monitoring key population indicators such as income level in between census years. This information will help policymakers to better manage and avoid income inequality globally.\n",
        "\n",
        "\n"
      ],
      "metadata": {
        "id": "K0BaQeKeoCK0"
      }
    },
    {
      "cell_type": "code",
      "execution_count": null,
      "metadata": {
        "id": "cmlxdy0EX_XU"
      },
      "outputs": [],
      "source": [
        "import pandas as pd\n",
        "import numpy as np\n",
        "import matplotlib.pyplot as plt"
      ]
    },
    {
      "cell_type": "code",
      "source": [
        "!pip install --upgrade scikit-learn numpy pandas catboost "
      ],
      "metadata": {
        "colab": {
          "base_uri": "https://localhost:8080/"
        },
        "id": "y-qU0_HfrV8g",
        "outputId": "bcd357e4-8119-46fe-d976-2452287b012f"
      },
      "execution_count": null,
      "outputs": [
        {
          "output_type": "stream",
          "name": "stdout",
          "text": [
            "Looking in indexes: https://pypi.org/simple, https://us-python.pkg.dev/colab-wheels/public/simple/\n",
            "Requirement already satisfied: scikit-learn in /usr/local/lib/python3.7/dist-packages (1.0.2)\n",
            "Requirement already satisfied: numpy in /usr/local/lib/python3.7/dist-packages (1.21.6)\n",
            "Requirement already satisfied: pandas in /usr/local/lib/python3.7/dist-packages (1.3.5)\n",
            "Collecting catboost\n",
            "  Downloading catboost-1.1-cp37-none-manylinux1_x86_64.whl (76.8 MB)\n",
            "\u001b[K     |████████████████████████████████| 76.8 MB 1.2 MB/s \n",
            "\u001b[?25hRequirement already satisfied: joblib>=0.11 in /usr/local/lib/python3.7/dist-packages (from scikit-learn) (1.2.0)\n",
            "Requirement already satisfied: scipy>=1.1.0 in /usr/local/lib/python3.7/dist-packages (from scikit-learn) (1.7.3)\n",
            "Requirement already satisfied: threadpoolctl>=2.0.0 in /usr/local/lib/python3.7/dist-packages (from scikit-learn) (3.1.0)\n",
            "Requirement already satisfied: python-dateutil>=2.7.3 in /usr/local/lib/python3.7/dist-packages (from pandas) (2.8.2)\n",
            "Requirement already satisfied: pytz>=2017.3 in /usr/local/lib/python3.7/dist-packages (from pandas) (2022.4)\n",
            "Requirement already satisfied: six>=1.5 in /usr/local/lib/python3.7/dist-packages (from python-dateutil>=2.7.3->pandas) (1.15.0)\n",
            "Requirement already satisfied: graphviz in /usr/local/lib/python3.7/dist-packages (from catboost) (0.10.1)\n",
            "Requirement already satisfied: matplotlib in /usr/local/lib/python3.7/dist-packages (from catboost) (3.2.2)\n",
            "Requirement already satisfied: plotly in /usr/local/lib/python3.7/dist-packages (from catboost) (5.5.0)\n",
            "Requirement already satisfied: kiwisolver>=1.0.1 in /usr/local/lib/python3.7/dist-packages (from matplotlib->catboost) (1.4.4)\n",
            "Requirement already satisfied: pyparsing!=2.0.4,!=2.1.2,!=2.1.6,>=2.0.1 in /usr/local/lib/python3.7/dist-packages (from matplotlib->catboost) (3.0.9)\n",
            "Requirement already satisfied: cycler>=0.10 in /usr/local/lib/python3.7/dist-packages (from matplotlib->catboost) (0.11.0)\n",
            "Requirement already satisfied: typing-extensions in /usr/local/lib/python3.7/dist-packages (from kiwisolver>=1.0.1->matplotlib->catboost) (4.1.1)\n",
            "Requirement already satisfied: tenacity>=6.2.0 in /usr/local/lib/python3.7/dist-packages (from plotly->catboost) (8.1.0)\n",
            "Installing collected packages: catboost\n",
            "Successfully installed catboost-1.1\n"
          ]
        }
      ]
    },
    {
      "cell_type": "code",
      "source": [
        "from termcolor import colored\n",
        "import plotly.express as px\n",
        "from sklearn.model_selection import train_test_split\n",
        "from catboost import CatBoostClassifier\n",
        "from sklearn.metrics import f1_score,accuracy_score,classification_report\n",
        "import warnings\n",
        "warnings.filterwarnings('always') "
      ],
      "metadata": {
        "id": "tbE0WNo8sI7O"
      },
      "execution_count": null,
      "outputs": []
    },
    {
      "cell_type": "code",
      "source": [
        "import lightgbm\n",
        "from sklearn.metrics import roc_auc_score"
      ],
      "metadata": {
        "colab": {
          "base_uri": "https://localhost:8080/"
        },
        "id": "pSpNwkarZZ0H",
        "outputId": "98676c43-3345-44d8-dae1-e19e34942a9b"
      },
      "execution_count": null,
      "outputs": [
        {
          "output_type": "stream",
          "name": "stderr",
          "text": [
            "/usr/local/lib/python3.7/dist-packages/lightgbm/__init__.py:30: ResourceWarning: unclosed file <_io.TextIOWrapper name='/usr/local/lib/python3.7/dist-packages/lightgbm/VERSION.txt' mode='r' encoding='UTF-8'>\n",
            "  __version__ = open(os.path.join(dir_path, 'VERSION.txt')).read().strip()\n",
            "ResourceWarning: Enable tracemalloc to get the object allocation traceback\n"
          ]
        }
      ]
    },
    {
      "cell_type": "code",
      "source": [
        "from google.colab import drive\n",
        "drive.mount('/content/drive')"
      ],
      "metadata": {
        "id": "RV5cR-t23f8m",
        "colab": {
          "base_uri": "https://localhost:8080/"
        },
        "outputId": "b46f92cf-4c36-40a2-dc7c-6805c53fc3a6"
      },
      "execution_count": null,
      "outputs": [
        {
          "output_type": "stream",
          "name": "stdout",
          "text": [
            "Mounted at /content/drive\n"
          ]
        }
      ]
    },
    {
      "cell_type": "code",
      "source": [
        "force_remount=True"
      ],
      "metadata": {
        "id": "R3b_iVd8hvDL"
      },
      "execution_count": null,
      "outputs": []
    },
    {
      "cell_type": "code",
      "source": [
        "file_ = \"drive/MyDrive/ColabNotebooks/Test.csv\"\n",
        "\n",
        "test_data = pd.read_csv(file_)\n",
        "test_data.head()"
      ],
      "metadata": {
        "colab": {
          "base_uri": "https://localhost:8080/",
          "height": 404
        },
        "id": "tSGXexZZb8eI",
        "outputId": "f20a3772-10b7-455b-d663-84c566814b0c"
      },
      "execution_count": null,
      "outputs": [
        {
          "output_type": "execute_result",
          "data": {
            "text/plain": [
              "            ID  age   gender                    education     class  \\\n",
              "0  ID_TZ209499   54     Male         High school graduate   Private   \n",
              "1  ID_TZ209500   53     Male             5th or 6th grade   Private   \n",
              "2  ID_TZ209501   42     Male   Bachelors degree(BA AB BS)   Private   \n",
              "3  ID_TZ209502   16   Female                    9th grade       NaN   \n",
              "4  ID_TZ209503   16     Male                    9th grade       NaN   \n",
              "\n",
              "  education_institute                    marital_status    race  \\\n",
              "0                 NaN   Married-civilian spouse present   White   \n",
              "1                 NaN   Married-civilian spouse present   White   \n",
              "2                 NaN   Married-civilian spouse present   White   \n",
              "3         High school                     Never married   White   \n",
              "4         High school                     Never married   White   \n",
              "\n",
              "                  is_hispanic      employment_commitment  ...  \\\n",
              "0                   All other   Children or Armed Forces  ...   \n",
              "1   Central or South American        Full-time schedules  ...   \n",
              "2                   All other        Full-time schedules  ...   \n",
              "3                   All other   Children or Armed Forces  ...   \n",
              "4                   All other         Not in labor force  ...   \n",
              "\n",
              "  country_of_birth_father  country_of_birth_mother  \\\n",
              "0                      US                       US   \n",
              "1             El-Salvador              El-Salvador   \n",
              "2                      US                       US   \n",
              "3                      US                       US   \n",
              "4                      US                       US   \n",
              "\n",
              "   migration_code_change_in_msa migration_prev_sunbelt  \\\n",
              "0                     unchanged                    NaN   \n",
              "1                             ?                      ?   \n",
              "2                             ?                      ?   \n",
              "3                     unchanged                    NaN   \n",
              "4                             ?                      ?   \n",
              "\n",
              "   migration_code_move_within_reg  migration_code_change_in_reg  \\\n",
              "0                       unchanged                     unchanged   \n",
              "1                               ?                             ?   \n",
              "2                               ?                             ?   \n",
              "3                       unchanged                     unchanged   \n",
              "4                               ?                             ?   \n",
              "\n",
              "  residence_1_year_ago  old_residence_reg old_residence_state  \\\n",
              "0                 Same                NaN                 NaN   \n",
              "1                  NaN                NaN                 NaN   \n",
              "2                  NaN                NaN                 NaN   \n",
              "3                 Same                NaN                 NaN   \n",
              "4                  NaN                NaN                 NaN   \n",
              "\n",
              "   importance_of_record  \n",
              "0               3388.96  \n",
              "1               1177.55  \n",
              "2               4898.55  \n",
              "3               1391.44  \n",
              "4               1933.18  \n",
              "\n",
              "[5 rows x 42 columns]"
            ],
            "text/html": [
              "\n",
              "  <div id=\"df-0a99c94c-639d-4298-b9d6-45c80fa58492\">\n",
              "    <div class=\"colab-df-container\">\n",
              "      <div>\n",
              "<style scoped>\n",
              "    .dataframe tbody tr th:only-of-type {\n",
              "        vertical-align: middle;\n",
              "    }\n",
              "\n",
              "    .dataframe tbody tr th {\n",
              "        vertical-align: top;\n",
              "    }\n",
              "\n",
              "    .dataframe thead th {\n",
              "        text-align: right;\n",
              "    }\n",
              "</style>\n",
              "<table border=\"1\" class=\"dataframe\">\n",
              "  <thead>\n",
              "    <tr style=\"text-align: right;\">\n",
              "      <th></th>\n",
              "      <th>ID</th>\n",
              "      <th>age</th>\n",
              "      <th>gender</th>\n",
              "      <th>education</th>\n",
              "      <th>class</th>\n",
              "      <th>education_institute</th>\n",
              "      <th>marital_status</th>\n",
              "      <th>race</th>\n",
              "      <th>is_hispanic</th>\n",
              "      <th>employment_commitment</th>\n",
              "      <th>...</th>\n",
              "      <th>country_of_birth_father</th>\n",
              "      <th>country_of_birth_mother</th>\n",
              "      <th>migration_code_change_in_msa</th>\n",
              "      <th>migration_prev_sunbelt</th>\n",
              "      <th>migration_code_move_within_reg</th>\n",
              "      <th>migration_code_change_in_reg</th>\n",
              "      <th>residence_1_year_ago</th>\n",
              "      <th>old_residence_reg</th>\n",
              "      <th>old_residence_state</th>\n",
              "      <th>importance_of_record</th>\n",
              "    </tr>\n",
              "  </thead>\n",
              "  <tbody>\n",
              "    <tr>\n",
              "      <th>0</th>\n",
              "      <td>ID_TZ209499</td>\n",
              "      <td>54</td>\n",
              "      <td>Male</td>\n",
              "      <td>High school graduate</td>\n",
              "      <td>Private</td>\n",
              "      <td>NaN</td>\n",
              "      <td>Married-civilian spouse present</td>\n",
              "      <td>White</td>\n",
              "      <td>All other</td>\n",
              "      <td>Children or Armed Forces</td>\n",
              "      <td>...</td>\n",
              "      <td>US</td>\n",
              "      <td>US</td>\n",
              "      <td>unchanged</td>\n",
              "      <td>NaN</td>\n",
              "      <td>unchanged</td>\n",
              "      <td>unchanged</td>\n",
              "      <td>Same</td>\n",
              "      <td>NaN</td>\n",
              "      <td>NaN</td>\n",
              "      <td>3388.96</td>\n",
              "    </tr>\n",
              "    <tr>\n",
              "      <th>1</th>\n",
              "      <td>ID_TZ209500</td>\n",
              "      <td>53</td>\n",
              "      <td>Male</td>\n",
              "      <td>5th or 6th grade</td>\n",
              "      <td>Private</td>\n",
              "      <td>NaN</td>\n",
              "      <td>Married-civilian spouse present</td>\n",
              "      <td>White</td>\n",
              "      <td>Central or South American</td>\n",
              "      <td>Full-time schedules</td>\n",
              "      <td>...</td>\n",
              "      <td>El-Salvador</td>\n",
              "      <td>El-Salvador</td>\n",
              "      <td>?</td>\n",
              "      <td>?</td>\n",
              "      <td>?</td>\n",
              "      <td>?</td>\n",
              "      <td>NaN</td>\n",
              "      <td>NaN</td>\n",
              "      <td>NaN</td>\n",
              "      <td>1177.55</td>\n",
              "    </tr>\n",
              "    <tr>\n",
              "      <th>2</th>\n",
              "      <td>ID_TZ209501</td>\n",
              "      <td>42</td>\n",
              "      <td>Male</td>\n",
              "      <td>Bachelors degree(BA AB BS)</td>\n",
              "      <td>Private</td>\n",
              "      <td>NaN</td>\n",
              "      <td>Married-civilian spouse present</td>\n",
              "      <td>White</td>\n",
              "      <td>All other</td>\n",
              "      <td>Full-time schedules</td>\n",
              "      <td>...</td>\n",
              "      <td>US</td>\n",
              "      <td>US</td>\n",
              "      <td>?</td>\n",
              "      <td>?</td>\n",
              "      <td>?</td>\n",
              "      <td>?</td>\n",
              "      <td>NaN</td>\n",
              "      <td>NaN</td>\n",
              "      <td>NaN</td>\n",
              "      <td>4898.55</td>\n",
              "    </tr>\n",
              "    <tr>\n",
              "      <th>3</th>\n",
              "      <td>ID_TZ209502</td>\n",
              "      <td>16</td>\n",
              "      <td>Female</td>\n",
              "      <td>9th grade</td>\n",
              "      <td>NaN</td>\n",
              "      <td>High school</td>\n",
              "      <td>Never married</td>\n",
              "      <td>White</td>\n",
              "      <td>All other</td>\n",
              "      <td>Children or Armed Forces</td>\n",
              "      <td>...</td>\n",
              "      <td>US</td>\n",
              "      <td>US</td>\n",
              "      <td>unchanged</td>\n",
              "      <td>NaN</td>\n",
              "      <td>unchanged</td>\n",
              "      <td>unchanged</td>\n",
              "      <td>Same</td>\n",
              "      <td>NaN</td>\n",
              "      <td>NaN</td>\n",
              "      <td>1391.44</td>\n",
              "    </tr>\n",
              "    <tr>\n",
              "      <th>4</th>\n",
              "      <td>ID_TZ209503</td>\n",
              "      <td>16</td>\n",
              "      <td>Male</td>\n",
              "      <td>9th grade</td>\n",
              "      <td>NaN</td>\n",
              "      <td>High school</td>\n",
              "      <td>Never married</td>\n",
              "      <td>White</td>\n",
              "      <td>All other</td>\n",
              "      <td>Not in labor force</td>\n",
              "      <td>...</td>\n",
              "      <td>US</td>\n",
              "      <td>US</td>\n",
              "      <td>?</td>\n",
              "      <td>?</td>\n",
              "      <td>?</td>\n",
              "      <td>?</td>\n",
              "      <td>NaN</td>\n",
              "      <td>NaN</td>\n",
              "      <td>NaN</td>\n",
              "      <td>1933.18</td>\n",
              "    </tr>\n",
              "  </tbody>\n",
              "</table>\n",
              "<p>5 rows × 42 columns</p>\n",
              "</div>\n",
              "      <button class=\"colab-df-convert\" onclick=\"convertToInteractive('df-0a99c94c-639d-4298-b9d6-45c80fa58492')\"\n",
              "              title=\"Convert this dataframe to an interactive table.\"\n",
              "              style=\"display:none;\">\n",
              "        \n",
              "  <svg xmlns=\"http://www.w3.org/2000/svg\" height=\"24px\"viewBox=\"0 0 24 24\"\n",
              "       width=\"24px\">\n",
              "    <path d=\"M0 0h24v24H0V0z\" fill=\"none\"/>\n",
              "    <path d=\"M18.56 5.44l.94 2.06.94-2.06 2.06-.94-2.06-.94-.94-2.06-.94 2.06-2.06.94zm-11 1L8.5 8.5l.94-2.06 2.06-.94-2.06-.94L8.5 2.5l-.94 2.06-2.06.94zm10 10l.94 2.06.94-2.06 2.06-.94-2.06-.94-.94-2.06-.94 2.06-2.06.94z\"/><path d=\"M17.41 7.96l-1.37-1.37c-.4-.4-.92-.59-1.43-.59-.52 0-1.04.2-1.43.59L10.3 9.45l-7.72 7.72c-.78.78-.78 2.05 0 2.83L4 21.41c.39.39.9.59 1.41.59.51 0 1.02-.2 1.41-.59l7.78-7.78 2.81-2.81c.8-.78.8-2.07 0-2.86zM5.41 20L4 18.59l7.72-7.72 1.47 1.35L5.41 20z\"/>\n",
              "  </svg>\n",
              "      </button>\n",
              "      \n",
              "  <style>\n",
              "    .colab-df-container {\n",
              "      display:flex;\n",
              "      flex-wrap:wrap;\n",
              "      gap: 12px;\n",
              "    }\n",
              "\n",
              "    .colab-df-convert {\n",
              "      background-color: #E8F0FE;\n",
              "      border: none;\n",
              "      border-radius: 50%;\n",
              "      cursor: pointer;\n",
              "      display: none;\n",
              "      fill: #1967D2;\n",
              "      height: 32px;\n",
              "      padding: 0 0 0 0;\n",
              "      width: 32px;\n",
              "    }\n",
              "\n",
              "    .colab-df-convert:hover {\n",
              "      background-color: #E2EBFA;\n",
              "      box-shadow: 0px 1px 2px rgba(60, 64, 67, 0.3), 0px 1px 3px 1px rgba(60, 64, 67, 0.15);\n",
              "      fill: #174EA6;\n",
              "    }\n",
              "\n",
              "    [theme=dark] .colab-df-convert {\n",
              "      background-color: #3B4455;\n",
              "      fill: #D2E3FC;\n",
              "    }\n",
              "\n",
              "    [theme=dark] .colab-df-convert:hover {\n",
              "      background-color: #434B5C;\n",
              "      box-shadow: 0px 1px 3px 1px rgba(0, 0, 0, 0.15);\n",
              "      filter: drop-shadow(0px 1px 2px rgba(0, 0, 0, 0.3));\n",
              "      fill: #FFFFFF;\n",
              "    }\n",
              "  </style>\n",
              "\n",
              "      <script>\n",
              "        const buttonEl =\n",
              "          document.querySelector('#df-0a99c94c-639d-4298-b9d6-45c80fa58492 button.colab-df-convert');\n",
              "        buttonEl.style.display =\n",
              "          google.colab.kernel.accessAllowed ? 'block' : 'none';\n",
              "\n",
              "        async function convertToInteractive(key) {\n",
              "          const element = document.querySelector('#df-0a99c94c-639d-4298-b9d6-45c80fa58492');\n",
              "          const dataTable =\n",
              "            await google.colab.kernel.invokeFunction('convertToInteractive',\n",
              "                                                     [key], {});\n",
              "          if (!dataTable) return;\n",
              "\n",
              "          const docLinkHtml = 'Like what you see? Visit the ' +\n",
              "            '<a target=\"_blank\" href=https://colab.research.google.com/notebooks/data_table.ipynb>data table notebook</a>'\n",
              "            + ' to learn more about interactive tables.';\n",
              "          element.innerHTML = '';\n",
              "          dataTable['output_type'] = 'display_data';\n",
              "          await google.colab.output.renderOutput(dataTable, element);\n",
              "          const docLink = document.createElement('div');\n",
              "          docLink.innerHTML = docLinkHtml;\n",
              "          element.appendChild(docLink);\n",
              "        }\n",
              "      </script>\n",
              "    </div>\n",
              "  </div>\n",
              "  "
            ]
          },
          "metadata": {},
          "execution_count": 10
        }
      ]
    },
    {
      "cell_type": "code",
      "source": [
        "file_ = \"drive/MyDrive/ColabNotebooks/Train.csv\"\n",
        "\n",
        "train_data = pd.read_csv(file_)\n",
        "train_data.head()"
      ],
      "metadata": {
        "colab": {
          "base_uri": "https://localhost:8080/",
          "height": 490
        },
        "id": "6SPmP6KEZ27i",
        "outputId": "7774be7e-463b-4b86-ae7c-61db4e1e4d6e"
      },
      "execution_count": null,
      "outputs": [
        {
          "output_type": "execute_result",
          "data": {
            "text/plain": [
              "          ID  age   gender               education                class  \\\n",
              "0  ID_TZ0000   79   Female    High school graduate                  NaN   \n",
              "1  ID_TZ0001   65   Female    High school graduate                  NaN   \n",
              "2  ID_TZ0002   21     Male   12th grade no diploma   Federal government   \n",
              "3  ID_TZ0003    2   Female                Children                  NaN   \n",
              "4  ID_TZ0004   70     Male    High school graduate                  NaN   \n",
              "\n",
              "  education_institute                    marital_status  \\\n",
              "0                 NaN                           Widowed   \n",
              "1                 NaN                           Widowed   \n",
              "2                 NaN                     Never married   \n",
              "3                 NaN                     Never married   \n",
              "4                 NaN   Married-civilian spouse present   \n",
              "\n",
              "                         race is_hispanic      employment_commitment  ...  \\\n",
              "0                       White   All other         Not in labor force  ...   \n",
              "1                       White   All other   Children or Armed Forces  ...   \n",
              "2                       Black   All other   Children or Armed Forces  ...   \n",
              "3   Asian or Pacific Islander   All other   Children or Armed Forces  ...   \n",
              "4                       White   All other         Not in labor force  ...   \n",
              "\n",
              "  country_of_birth_mother  migration_code_change_in_msa  \\\n",
              "0                      US                             ?   \n",
              "1                      US                     unchanged   \n",
              "2                      US                     unchanged   \n",
              "3                   India                     unchanged   \n",
              "4                      US                             ?   \n",
              "\n",
              "   migration_prev_sunbelt migration_code_move_within_reg  \\\n",
              "0                       ?                              ?   \n",
              "1                     NaN                      unchanged   \n",
              "2                     NaN                      unchanged   \n",
              "3                     NaN                      unchanged   \n",
              "4                       ?                              ?   \n",
              "\n",
              "   migration_code_change_in_reg  residence_1_year_ago old_residence_reg  \\\n",
              "0                             ?                   NaN               NaN   \n",
              "1                     unchanged                  Same               NaN   \n",
              "2                     unchanged                  Same               NaN   \n",
              "3                     unchanged                  Same               NaN   \n",
              "4                             ?                   NaN               NaN   \n",
              "\n",
              "   old_residence_state importance_of_record  income_above_limit  \n",
              "0                  NaN              1779.74         Below limit  \n",
              "1                  NaN              2366.75         Below limit  \n",
              "2                  NaN              1693.42         Below limit  \n",
              "3                  NaN              1380.27         Below limit  \n",
              "4                  NaN              1580.79         Below limit  \n",
              "\n",
              "[5 rows x 43 columns]"
            ],
            "text/html": [
              "\n",
              "  <div id=\"df-3bbefb10-73df-4135-8ad3-31a6fb25c843\">\n",
              "    <div class=\"colab-df-container\">\n",
              "      <div>\n",
              "<style scoped>\n",
              "    .dataframe tbody tr th:only-of-type {\n",
              "        vertical-align: middle;\n",
              "    }\n",
              "\n",
              "    .dataframe tbody tr th {\n",
              "        vertical-align: top;\n",
              "    }\n",
              "\n",
              "    .dataframe thead th {\n",
              "        text-align: right;\n",
              "    }\n",
              "</style>\n",
              "<table border=\"1\" class=\"dataframe\">\n",
              "  <thead>\n",
              "    <tr style=\"text-align: right;\">\n",
              "      <th></th>\n",
              "      <th>ID</th>\n",
              "      <th>age</th>\n",
              "      <th>gender</th>\n",
              "      <th>education</th>\n",
              "      <th>class</th>\n",
              "      <th>education_institute</th>\n",
              "      <th>marital_status</th>\n",
              "      <th>race</th>\n",
              "      <th>is_hispanic</th>\n",
              "      <th>employment_commitment</th>\n",
              "      <th>...</th>\n",
              "      <th>country_of_birth_mother</th>\n",
              "      <th>migration_code_change_in_msa</th>\n",
              "      <th>migration_prev_sunbelt</th>\n",
              "      <th>migration_code_move_within_reg</th>\n",
              "      <th>migration_code_change_in_reg</th>\n",
              "      <th>residence_1_year_ago</th>\n",
              "      <th>old_residence_reg</th>\n",
              "      <th>old_residence_state</th>\n",
              "      <th>importance_of_record</th>\n",
              "      <th>income_above_limit</th>\n",
              "    </tr>\n",
              "  </thead>\n",
              "  <tbody>\n",
              "    <tr>\n",
              "      <th>0</th>\n",
              "      <td>ID_TZ0000</td>\n",
              "      <td>79</td>\n",
              "      <td>Female</td>\n",
              "      <td>High school graduate</td>\n",
              "      <td>NaN</td>\n",
              "      <td>NaN</td>\n",
              "      <td>Widowed</td>\n",
              "      <td>White</td>\n",
              "      <td>All other</td>\n",
              "      <td>Not in labor force</td>\n",
              "      <td>...</td>\n",
              "      <td>US</td>\n",
              "      <td>?</td>\n",
              "      <td>?</td>\n",
              "      <td>?</td>\n",
              "      <td>?</td>\n",
              "      <td>NaN</td>\n",
              "      <td>NaN</td>\n",
              "      <td>NaN</td>\n",
              "      <td>1779.74</td>\n",
              "      <td>Below limit</td>\n",
              "    </tr>\n",
              "    <tr>\n",
              "      <th>1</th>\n",
              "      <td>ID_TZ0001</td>\n",
              "      <td>65</td>\n",
              "      <td>Female</td>\n",
              "      <td>High school graduate</td>\n",
              "      <td>NaN</td>\n",
              "      <td>NaN</td>\n",
              "      <td>Widowed</td>\n",
              "      <td>White</td>\n",
              "      <td>All other</td>\n",
              "      <td>Children or Armed Forces</td>\n",
              "      <td>...</td>\n",
              "      <td>US</td>\n",
              "      <td>unchanged</td>\n",
              "      <td>NaN</td>\n",
              "      <td>unchanged</td>\n",
              "      <td>unchanged</td>\n",
              "      <td>Same</td>\n",
              "      <td>NaN</td>\n",
              "      <td>NaN</td>\n",
              "      <td>2366.75</td>\n",
              "      <td>Below limit</td>\n",
              "    </tr>\n",
              "    <tr>\n",
              "      <th>2</th>\n",
              "      <td>ID_TZ0002</td>\n",
              "      <td>21</td>\n",
              "      <td>Male</td>\n",
              "      <td>12th grade no diploma</td>\n",
              "      <td>Federal government</td>\n",
              "      <td>NaN</td>\n",
              "      <td>Never married</td>\n",
              "      <td>Black</td>\n",
              "      <td>All other</td>\n",
              "      <td>Children or Armed Forces</td>\n",
              "      <td>...</td>\n",
              "      <td>US</td>\n",
              "      <td>unchanged</td>\n",
              "      <td>NaN</td>\n",
              "      <td>unchanged</td>\n",
              "      <td>unchanged</td>\n",
              "      <td>Same</td>\n",
              "      <td>NaN</td>\n",
              "      <td>NaN</td>\n",
              "      <td>1693.42</td>\n",
              "      <td>Below limit</td>\n",
              "    </tr>\n",
              "    <tr>\n",
              "      <th>3</th>\n",
              "      <td>ID_TZ0003</td>\n",
              "      <td>2</td>\n",
              "      <td>Female</td>\n",
              "      <td>Children</td>\n",
              "      <td>NaN</td>\n",
              "      <td>NaN</td>\n",
              "      <td>Never married</td>\n",
              "      <td>Asian or Pacific Islander</td>\n",
              "      <td>All other</td>\n",
              "      <td>Children or Armed Forces</td>\n",
              "      <td>...</td>\n",
              "      <td>India</td>\n",
              "      <td>unchanged</td>\n",
              "      <td>NaN</td>\n",
              "      <td>unchanged</td>\n",
              "      <td>unchanged</td>\n",
              "      <td>Same</td>\n",
              "      <td>NaN</td>\n",
              "      <td>NaN</td>\n",
              "      <td>1380.27</td>\n",
              "      <td>Below limit</td>\n",
              "    </tr>\n",
              "    <tr>\n",
              "      <th>4</th>\n",
              "      <td>ID_TZ0004</td>\n",
              "      <td>70</td>\n",
              "      <td>Male</td>\n",
              "      <td>High school graduate</td>\n",
              "      <td>NaN</td>\n",
              "      <td>NaN</td>\n",
              "      <td>Married-civilian spouse present</td>\n",
              "      <td>White</td>\n",
              "      <td>All other</td>\n",
              "      <td>Not in labor force</td>\n",
              "      <td>...</td>\n",
              "      <td>US</td>\n",
              "      <td>?</td>\n",
              "      <td>?</td>\n",
              "      <td>?</td>\n",
              "      <td>?</td>\n",
              "      <td>NaN</td>\n",
              "      <td>NaN</td>\n",
              "      <td>NaN</td>\n",
              "      <td>1580.79</td>\n",
              "      <td>Below limit</td>\n",
              "    </tr>\n",
              "  </tbody>\n",
              "</table>\n",
              "<p>5 rows × 43 columns</p>\n",
              "</div>\n",
              "      <button class=\"colab-df-convert\" onclick=\"convertToInteractive('df-3bbefb10-73df-4135-8ad3-31a6fb25c843')\"\n",
              "              title=\"Convert this dataframe to an interactive table.\"\n",
              "              style=\"display:none;\">\n",
              "        \n",
              "  <svg xmlns=\"http://www.w3.org/2000/svg\" height=\"24px\"viewBox=\"0 0 24 24\"\n",
              "       width=\"24px\">\n",
              "    <path d=\"M0 0h24v24H0V0z\" fill=\"none\"/>\n",
              "    <path d=\"M18.56 5.44l.94 2.06.94-2.06 2.06-.94-2.06-.94-.94-2.06-.94 2.06-2.06.94zm-11 1L8.5 8.5l.94-2.06 2.06-.94-2.06-.94L8.5 2.5l-.94 2.06-2.06.94zm10 10l.94 2.06.94-2.06 2.06-.94-2.06-.94-.94-2.06-.94 2.06-2.06.94z\"/><path d=\"M17.41 7.96l-1.37-1.37c-.4-.4-.92-.59-1.43-.59-.52 0-1.04.2-1.43.59L10.3 9.45l-7.72 7.72c-.78.78-.78 2.05 0 2.83L4 21.41c.39.39.9.59 1.41.59.51 0 1.02-.2 1.41-.59l7.78-7.78 2.81-2.81c.8-.78.8-2.07 0-2.86zM5.41 20L4 18.59l7.72-7.72 1.47 1.35L5.41 20z\"/>\n",
              "  </svg>\n",
              "      </button>\n",
              "      \n",
              "  <style>\n",
              "    .colab-df-container {\n",
              "      display:flex;\n",
              "      flex-wrap:wrap;\n",
              "      gap: 12px;\n",
              "    }\n",
              "\n",
              "    .colab-df-convert {\n",
              "      background-color: #E8F0FE;\n",
              "      border: none;\n",
              "      border-radius: 50%;\n",
              "      cursor: pointer;\n",
              "      display: none;\n",
              "      fill: #1967D2;\n",
              "      height: 32px;\n",
              "      padding: 0 0 0 0;\n",
              "      width: 32px;\n",
              "    }\n",
              "\n",
              "    .colab-df-convert:hover {\n",
              "      background-color: #E2EBFA;\n",
              "      box-shadow: 0px 1px 2px rgba(60, 64, 67, 0.3), 0px 1px 3px 1px rgba(60, 64, 67, 0.15);\n",
              "      fill: #174EA6;\n",
              "    }\n",
              "\n",
              "    [theme=dark] .colab-df-convert {\n",
              "      background-color: #3B4455;\n",
              "      fill: #D2E3FC;\n",
              "    }\n",
              "\n",
              "    [theme=dark] .colab-df-convert:hover {\n",
              "      background-color: #434B5C;\n",
              "      box-shadow: 0px 1px 3px 1px rgba(0, 0, 0, 0.15);\n",
              "      filter: drop-shadow(0px 1px 2px rgba(0, 0, 0, 0.3));\n",
              "      fill: #FFFFFF;\n",
              "    }\n",
              "  </style>\n",
              "\n",
              "      <script>\n",
              "        const buttonEl =\n",
              "          document.querySelector('#df-3bbefb10-73df-4135-8ad3-31a6fb25c843 button.colab-df-convert');\n",
              "        buttonEl.style.display =\n",
              "          google.colab.kernel.accessAllowed ? 'block' : 'none';\n",
              "\n",
              "        async function convertToInteractive(key) {\n",
              "          const element = document.querySelector('#df-3bbefb10-73df-4135-8ad3-31a6fb25c843');\n",
              "          const dataTable =\n",
              "            await google.colab.kernel.invokeFunction('convertToInteractive',\n",
              "                                                     [key], {});\n",
              "          if (!dataTable) return;\n",
              "\n",
              "          const docLinkHtml = 'Like what you see? Visit the ' +\n",
              "            '<a target=\"_blank\" href=https://colab.research.google.com/notebooks/data_table.ipynb>data table notebook</a>'\n",
              "            + ' to learn more about interactive tables.';\n",
              "          element.innerHTML = '';\n",
              "          dataTable['output_type'] = 'display_data';\n",
              "          await google.colab.output.renderOutput(dataTable, element);\n",
              "          const docLink = document.createElement('div');\n",
              "          docLink.innerHTML = docLinkHtml;\n",
              "          element.appendChild(docLink);\n",
              "        }\n",
              "      </script>\n",
              "    </div>\n",
              "  </div>\n",
              "  "
            ]
          },
          "metadata": {},
          "execution_count": 11
        }
      ]
    },
    {
      "cell_type": "code",
      "source": [
        "train_data.count()"
      ],
      "metadata": {
        "colab": {
          "base_uri": "https://localhost:8080/"
        },
        "id": "c003MI-BwYbE",
        "outputId": "41e771f2-22d6-4558-df46-4f9b89f3cf83"
      },
      "execution_count": null,
      "outputs": [
        {
          "output_type": "execute_result",
          "data": {
            "text/plain": [
              "ID                                209499\n",
              "age                               209499\n",
              "gender                            209499\n",
              "education                         209499\n",
              "class                             104254\n",
              "education_institute                13302\n",
              "marital_status                    209499\n",
              "race                              209499\n",
              "is_hispanic                       209499\n",
              "employment_commitment             209499\n",
              "unemployment_reason                 6520\n",
              "employment_stat                   209499\n",
              "wage_per_hour                     209499\n",
              "is_labor_union                     20079\n",
              "working_week_per_year             209499\n",
              "industry_code                     209499\n",
              "industry_code_main                209499\n",
              "occupation_code                   209499\n",
              "occupation_code_main              103805\n",
              "total_employed                    209499\n",
              "household_stat                    209499\n",
              "household_summary                 209499\n",
              "under_18_family                    57845\n",
              "veterans_admin_questionnaire        2084\n",
              "vet_benefit                       209499\n",
              "tax_status                        209499\n",
              "gains                             209499\n",
              "losses                            209499\n",
              "stocks_status                     209499\n",
              "citizenship                       209499\n",
              "mig_year                          209499\n",
              "country_of_birth_own              209499\n",
              "country_of_birth_father           209499\n",
              "country_of_birth_mother           209499\n",
              "migration_code_change_in_msa      207911\n",
              "migration_prev_sunbelt            121047\n",
              "migration_code_move_within_reg    207911\n",
              "migration_code_change_in_reg      207911\n",
              "residence_1_year_ago              103215\n",
              "old_residence_reg                  16351\n",
              "old_residence_state                16351\n",
              "importance_of_record              209499\n",
              "income_above_limit                209499\n",
              "dtype: int64"
            ]
          },
          "metadata": {},
          "execution_count": 12
        }
      ]
    },
    {
      "cell_type": "code",
      "source": [
        "test_data.groupby('race').total_employed.sum()"
      ],
      "metadata": {
        "colab": {
          "base_uri": "https://localhost:8080/"
        },
        "id": "joAGCnoxpk8P",
        "outputId": "baa30b33-0103-478b-c19b-19fcd6fff175"
      },
      "execution_count": null,
      "outputs": [
        {
          "output_type": "execute_result",
          "data": {
            "text/plain": [
              "race\n",
              " Amer Indian Aleut or Eskimo      1646\n",
              " Asian or Pacific Islander        5301\n",
              " Black                           17018\n",
              " Other                            2719\n",
              " White                          148975\n",
              "Name: total_employed, dtype: int64"
            ]
          },
          "metadata": {},
          "execution_count": 14
        }
      ]
    },
    {
      "cell_type": "code",
      "source": [
        "test_data.citizenship.unique()"
      ],
      "metadata": {
        "colab": {
          "base_uri": "https://localhost:8080/"
        },
        "id": "ZY0t4dMKz39T",
        "outputId": "2753be6f-3001-41df-80ba-a6ab76135955"
      },
      "execution_count": null,
      "outputs": [
        {
          "output_type": "execute_result",
          "data": {
            "text/plain": [
              "array(['Native', ' Foreign born- Not a citizen of U S ',\n",
              "       ' Native- Born in Puerto Rico or U S Outlying',\n",
              "       ' Foreign born- U S citizen by naturalization',\n",
              "       ' Native- Born abroad of American Parent(s)'], dtype=object)"
            ]
          },
          "metadata": {},
          "execution_count": 15
        }
      ]
    },
    {
      "cell_type": "code",
      "source": [
        "test_data.country_of_birth_father.unique()"
      ],
      "metadata": {
        "id": "Gi2DDSkepksu",
        "colab": {
          "base_uri": "https://localhost:8080/"
        },
        "outputId": "e85d8d8e-f2ef-471e-84a6-2d12c637e3ab"
      },
      "execution_count": null,
      "outputs": [
        {
          "output_type": "execute_result",
          "data": {
            "text/plain": [
              "array(['US', ' El-Salvador', ' Nicaragua', ' ?', ' China', ' Mexico',\n",
              "       ' Philippines', ' Germany', ' Italy', ' England',\n",
              "       ' Dominican-Republic', ' Outlying-U S (Guam USVI etc)', ' Vietnam',\n",
              "       ' Puerto-Rico', ' Poland', ' India', ' Hungary', ' Canada',\n",
              "       ' Cuba', ' Scotland', ' Portugal', ' France', ' Columbia',\n",
              "       ' Guatemala', ' Ecuador', ' Jamaica', ' Peru', ' Trinadad&Tobago',\n",
              "       ' South Korea', ' Yugoslavia', ' Cambodia', ' Japan', ' Greece',\n",
              "       ' Haiti', ' Iran', ' Honduras', ' Ireland', ' Panama', ' Thailand',\n",
              "       ' Taiwan', ' Hong Kong', ' Laos', ' Holand-Netherlands'],\n",
              "      dtype=object)"
            ]
          },
          "metadata": {},
          "execution_count": 16
        }
      ]
    },
    {
      "cell_type": "code",
      "source": [
        "test_data.groupby('race').wage_per_hour.max()"
      ],
      "metadata": {
        "colab": {
          "base_uri": "https://localhost:8080/"
        },
        "id": "4liZpko6trlU",
        "outputId": "c06a1956-7920-443e-cc71-adfb8a4cd1e0"
      },
      "execution_count": null,
      "outputs": [
        {
          "output_type": "execute_result",
          "data": {
            "text/plain": [
              "race\n",
              " Amer Indian Aleut or Eskimo    7700\n",
              " Asian or Pacific Islander      2700\n",
              " Black                          2800\n",
              " Other                          2019\n",
              " White                          9400\n",
              "Name: wage_per_hour, dtype: int64"
            ]
          },
          "metadata": {},
          "execution_count": 17
        }
      ]
    },
    {
      "cell_type": "code",
      "source": [
        "import seaborn as sns\n",
        "import matplotlib.pyplot as plt\n",
        "sns.heatmap(test_data.isnull())\n",
        "plt.show()"
      ],
      "metadata": {
        "colab": {
          "base_uri": "https://localhost:8080/",
          "height": 427
        },
        "id": "8bXhBMynuNZj",
        "outputId": "5569a105-1aa3-47d4-9dcd-8983e4031717"
      },
      "execution_count": null,
      "outputs": [
        {
          "output_type": "display_data",
          "data": {
            "text/plain": [
              "<Figure size 432x288 with 2 Axes>"
            ],
            "image/png": "[encoded data removed]"
          },
          "metadata": {
            "needs_background": "light"
          }
        }
      ]
    },
    {
      "cell_type": "code",
      "source": [
        "sns.heatmap(train_data.isnull())\n",
        "plt.show()"
      ],
      "metadata": {
        "colab": {
          "base_uri": "https://localhost:8080/",
          "height": 427
        },
        "id": "5EGVsKZbyGeC",
        "outputId": "4b3fa75a-db49-4ac3-ba99-3436aeb9f37a"
      },
      "execution_count": null,
      "outputs": [
        {
          "output_type": "display_data",
          "data": {
            "text/plain": [
              "<Figure size 432x288 with 2 Axes>"
            ],
            "image/png": "[encoded data removed]"
          },
          "metadata": {
            "needs_background": "light"
          }
        }
      ]
    },
    {
      "cell_type": "code",
      "source": [
        "test_data['industry_code_main'].isna().sum()"
      ],
      "metadata": {
        "id": "ke9iSxch2aqc",
        "colab": {
          "base_uri": "https://localhost:8080/"
        },
        "outputId": "67cafeef-7f1c-4f63-9e11-b46bc0af98bf"
      },
      "execution_count": null,
      "outputs": [
        {
          "output_type": "execute_result",
          "data": {
            "text/plain": [
              "0"
            ]
          },
          "metadata": {},
          "execution_count": 20
        }
      ]
    },
    {
      "cell_type": "code",
      "source": [
        "test_data['household_stat'].isna().sum()"
      ],
      "metadata": {
        "colab": {
          "base_uri": "https://localhost:8080/"
        },
        "id": "BEQwqjnG1fZG",
        "outputId": "f3ef6bcb-afc9-4f29-e535-254a1912f2cb"
      },
      "execution_count": null,
      "outputs": [
        {
          "output_type": "execute_result",
          "data": {
            "text/plain": [
              "0"
            ]
          },
          "metadata": {},
          "execution_count": 21
        }
      ]
    },
    {
      "cell_type": "code",
      "source": [
        "test_data.isna().sum().sum()"
      ],
      "metadata": {
        "colab": {
          "base_uri": "https://localhost:8080/"
        },
        "id": "wjvOt3an1GIQ",
        "outputId": "08d90d53-eef8-4761-8392-e2298994a782"
      },
      "execution_count": null,
      "outputs": [
        {
          "output_type": "execute_result",
          "data": {
            "text/plain": [
              "747395"
            ]
          },
          "metadata": {},
          "execution_count": 23
        }
      ]
    },
    {
      "cell_type": "code",
      "source": [
        "frames = [test_data,train_data]\n",
        "result = pd.concat(frames)\n",
        "result"
      ],
      "metadata": {
        "colab": {
          "base_uri": "https://localhost:8080/",
          "height": 713
        },
        "id": "EuWKWyN4wdBm",
        "outputId": "79ff3f41-daf8-4f61-cce0-16cc0af41cca"
      },
      "execution_count": null,
      "outputs": [
        {
          "output_type": "execute_result",
          "data": {
            "text/plain": [
              "                 ID  age   gender                    education  \\\n",
              "0       ID_TZ209499   54     Male         High school graduate   \n",
              "1       ID_TZ209500   53     Male             5th or 6th grade   \n",
              "2       ID_TZ209501   42     Male   Bachelors degree(BA AB BS)   \n",
              "3       ID_TZ209502   16   Female                    9th grade   \n",
              "4       ID_TZ209503   16     Male                    9th grade   \n",
              "...             ...  ...      ...                          ...   \n",
              "209494   ID_TZ99995   16   Female            7th and 8th grade   \n",
              "209495   ID_TZ99996   78     Male   Bachelors degree(BA AB BS)   \n",
              "209496   ID_TZ99997    8   Female                     Children   \n",
              "209497   ID_TZ99998   26   Female   Some college but no degree   \n",
              "209498   ID_TZ99999   19     Male                   11th grade   \n",
              "\n",
              "                    class education_institute  \\\n",
              "0                 Private                 NaN   \n",
              "1                 Private                 NaN   \n",
              "2                 Private                 NaN   \n",
              "3                     NaN         High school   \n",
              "4                     NaN         High school   \n",
              "...                   ...                 ...   \n",
              "209494                NaN         High school   \n",
              "209495                NaN                 NaN   \n",
              "209496                NaN                 NaN   \n",
              "209497            Private                 NaN   \n",
              "209498   Local government         High school   \n",
              "\n",
              "                          marital_status    race                 is_hispanic  \\\n",
              "0        Married-civilian spouse present   White                   All other   \n",
              "1        Married-civilian spouse present   White   Central or South American   \n",
              "2        Married-civilian spouse present   White                   All other   \n",
              "3                          Never married   White                   All other   \n",
              "4                          Never married   White                   All other   \n",
              "...                                  ...     ...                         ...   \n",
              "209494                     Never married   White                   All other   \n",
              "209495   Married-civilian spouse present   White                   All other   \n",
              "209496                     Never married   White                   All other   \n",
              "209497   Married-civilian spouse present   White                   All other   \n",
              "209498                     Never married   Black                   All other   \n",
              "\n",
              "            employment_commitment  ... country_of_birth_mother  \\\n",
              "0        Children or Armed Forces  ...                      US   \n",
              "1             Full-time schedules  ...             El-Salvador   \n",
              "2             Full-time schedules  ...                      US   \n",
              "3        Children or Armed Forces  ...                      US   \n",
              "4              Not in labor force  ...                      US   \n",
              "...                           ...  ...                     ...   \n",
              "209494         Not in labor force  ...                      US   \n",
              "209495         Not in labor force  ...                  Canada   \n",
              "209496   Children or Armed Forces  ...                      US   \n",
              "209497   Children or Armed Forces  ...                      US   \n",
              "209498   Children or Armed Forces  ...                      US   \n",
              "\n",
              "        migration_code_change_in_msa  migration_prev_sunbelt  \\\n",
              "0                          unchanged                     NaN   \n",
              "1                                  ?                       ?   \n",
              "2                                  ?                       ?   \n",
              "3                          unchanged                     NaN   \n",
              "4                                  ?                       ?   \n",
              "...                              ...                     ...   \n",
              "209494                             ?                       ?   \n",
              "209495                             ?                       ?   \n",
              "209496                             ?                       ?   \n",
              "209497                     unchanged                     NaN   \n",
              "209498                    MSA to MSA                    Same   \n",
              "\n",
              "       migration_code_move_within_reg  migration_code_change_in_reg  \\\n",
              "0                           unchanged                     unchanged   \n",
              "1                                   ?                             ?   \n",
              "2                                   ?                             ?   \n",
              "3                           unchanged                     unchanged   \n",
              "4                                   ?                             ?   \n",
              "...                               ...                           ...   \n",
              "209494                              ?                             ?   \n",
              "209495                              ?                             ?   \n",
              "209496                              ?                             ?   \n",
              "209497                      unchanged                     unchanged   \n",
              "209498                    Same county                   Same county   \n",
              "\n",
              "        residence_1_year_ago old_residence_reg  old_residence_state  \\\n",
              "0                       Same               NaN                  NaN   \n",
              "1                        NaN               NaN                  NaN   \n",
              "2                        NaN               NaN                  NaN   \n",
              "3                       Same               NaN                  NaN   \n",
              "4                        NaN               NaN                  NaN   \n",
              "...                      ...               ...                  ...   \n",
              "209494                   NaN               NaN                  NaN   \n",
              "209495                   NaN               NaN                  NaN   \n",
              "209496                   NaN               NaN                  NaN   \n",
              "209497                  Same               NaN                  NaN   \n",
              "209498                    No             South              Florida   \n",
              "\n",
              "       importance_of_record  income_above_limit  \n",
              "0                   3388.96                 NaN  \n",
              "1                   1177.55                 NaN  \n",
              "2                   4898.55                 NaN  \n",
              "3                   1391.44                 NaN  \n",
              "4                   1933.18                 NaN  \n",
              "...                     ...                 ...  \n",
              "209494              2170.60         Below limit  \n",
              "209495              1029.57         Below limit  \n",
              "209496               791.61         Below limit  \n",
              "209497              3530.26         Below limit  \n",
              "209498              1987.72         Below limit  \n",
              "\n",
              "[299285 rows x 43 columns]"
            ],
            "text/html": [
              "\n",
              "  <div id=\"df-31025d4c-e5b8-4f39-9566-a1fd791ea3e2\">\n",
              "    <div class=\"colab-df-container\">\n",
              "      <div>\n",
              "<style scoped>\n",
              "    .dataframe tbody tr th:only-of-type {\n",
              "        vertical-align: middle;\n",
              "    }\n",
              "\n",
              "    .dataframe tbody tr th {\n",
              "        vertical-align: top;\n",
              "    }\n",
              "\n",
              "    .dataframe thead th {\n",
              "        text-align: right;\n",
              "    }\n",
              "</style>\n",
              "<table border=\"1\" class=\"dataframe\">\n",
              "  <thead>\n",
              "    <tr style=\"text-align: right;\">\n",
              "      <th></th>\n",
              "      <th>ID</th>\n",
              "      <th>age</th>\n",
              "      <th>gender</th>\n",
              "      <th>education</th>\n",
              "      <th>class</th>\n",
              "      <th>education_institute</th>\n",
              "      <th>marital_status</th>\n",
              "      <th>race</th>\n",
              "      <th>is_hispanic</th>\n",
              "      <th>employment_commitment</th>\n",
              "      <th>...</th>\n",
              "      <th>country_of_birth_mother</th>\n",
              "      <th>migration_code_change_in_msa</th>\n",
              "      <th>migration_prev_sunbelt</th>\n",
              "      <th>migration_code_move_within_reg</th>\n",
              "      <th>migration_code_change_in_reg</th>\n",
              "      <th>residence_1_year_ago</th>\n",
              "      <th>old_residence_reg</th>\n",
              "      <th>old_residence_state</th>\n",
              "      <th>importance_of_record</th>\n",
              "      <th>income_above_limit</th>\n",
              "    </tr>\n",
              "  </thead>\n",
              "  <tbody>\n",
              "    <tr>\n",
              "      <th>0</th>\n",
              "      <td>ID_TZ209499</td>\n",
              "      <td>54</td>\n",
              "      <td>Male</td>\n",
              "      <td>High school graduate</td>\n",
              "      <td>Private</td>\n",
              "      <td>NaN</td>\n",
              "      <td>Married-civilian spouse present</td>\n",
              "      <td>White</td>\n",
              "      <td>All other</td>\n",
              "      <td>Children or Armed Forces</td>\n",
              "      <td>...</td>\n",
              "      <td>US</td>\n",
              "      <td>unchanged</td>\n",
              "      <td>NaN</td>\n",
              "      <td>unchanged</td>\n",
              "      <td>unchanged</td>\n",
              "      <td>Same</td>\n",
              "      <td>NaN</td>\n",
              "      <td>NaN</td>\n",
              "      <td>3388.96</td>\n",
              "      <td>NaN</td>\n",
              "    </tr>\n",
              "    <tr>\n",
              "      <th>1</th>\n",
              "      <td>ID_TZ209500</td>\n",
              "      <td>53</td>\n",
              "      <td>Male</td>\n",
              "      <td>5th or 6th grade</td>\n",
              "      <td>Private</td>\n",
              "      <td>NaN</td>\n",
              "      <td>Married-civilian spouse present</td>\n",
              "      <td>White</td>\n",
              "      <td>Central or South American</td>\n",
              "      <td>Full-time schedules</td>\n",
              "      <td>...</td>\n",
              "      <td>El-Salvador</td>\n",
              "      <td>?</td>\n",
              "      <td>?</td>\n",
              "      <td>?</td>\n",
              "      <td>?</td>\n",
              "      <td>NaN</td>\n",
              "      <td>NaN</td>\n",
              "      <td>NaN</td>\n",
              "      <td>1177.55</td>\n",
              "      <td>NaN</td>\n",
              "    </tr>\n",
              "    <tr>\n",
              "      <th>2</th>\n",
              "      <td>ID_TZ209501</td>\n",
              "      <td>42</td>\n",
              "      <td>Male</td>\n",
              "      <td>Bachelors degree(BA AB BS)</td>\n",
              "      <td>Private</td>\n",
              "      <td>NaN</td>\n",
              "      <td>Married-civilian spouse present</td>\n",
              "      <td>White</td>\n",
              "      <td>All other</td>\n",
              "      <td>Full-time schedules</td>\n",
              "      <td>...</td>\n",
              "      <td>US</td>\n",
              "      <td>?</td>\n",
              "      <td>?</td>\n",
              "      <td>?</td>\n",
              "      <td>?</td>\n",
              "      <td>NaN</td>\n",
              "      <td>NaN</td>\n",
              "      <td>NaN</td>\n",
              "      <td>4898.55</td>\n",
              "      <td>NaN</td>\n",
              "    </tr>\n",
              "    <tr>\n",
              "      <th>3</th>\n",
              "      <td>ID_TZ209502</td>\n",
              "      <td>16</td>\n",
              "      <td>Female</td>\n",
              "      <td>9th grade</td>\n",
              "      <td>NaN</td>\n",
              "      <td>High school</td>\n",
              "      <td>Never married</td>\n",
              "      <td>White</td>\n",
              "      <td>All other</td>\n",
              "      <td>Children or Armed Forces</td>\n",
              "      <td>...</td>\n",
              "      <td>US</td>\n",
              "      <td>unchanged</td>\n",
              "      <td>NaN</td>\n",
              "      <td>unchanged</td>\n",
              "      <td>unchanged</td>\n",
              "      <td>Same</td>\n",
              "      <td>NaN</td>\n",
              "      <td>NaN</td>\n",
              "      <td>1391.44</td>\n",
              "      <td>NaN</td>\n",
              "    </tr>\n",
              "    <tr>\n",
              "      <th>4</th>\n",
              "      <td>ID_TZ209503</td>\n",
              "      <td>16</td>\n",
              "      <td>Male</td>\n",
              "      <td>9th grade</td>\n",
              "      <td>NaN</td>\n",
              "      <td>High school</td>\n",
              "      <td>Never married</td>\n",
              "      <td>White</td>\n",
              "      <td>All other</td>\n",
              "      <td>Not in labor force</td>\n",
              "      <td>...</td>\n",
              "      <td>US</td>\n",
              "      <td>?</td>\n",
              "      <td>?</td>\n",
              "      <td>?</td>\n",
              "      <td>?</td>\n",
              "      <td>NaN</td>\n",
              "      <td>NaN</td>\n",
              "      <td>NaN</td>\n",
              "      <td>1933.18</td>\n",
              "      <td>NaN</td>\n",
              "    </tr>\n",
              "    <tr>\n",
              "      <th>...</th>\n",
              "      <td>...</td>\n",
              "      <td>...</td>\n",
              "      <td>...</td>\n",
              "      <td>...</td>\n",
              "      <td>...</td>\n",
              "      <td>...</td>\n",
              "      <td>...</td>\n",
              "      <td>...</td>\n",
              "      <td>...</td>\n",
              "      <td>...</td>\n",
              "      <td>...</td>\n",
              "      <td>...</td>\n",
              "      <td>...</td>\n",
              "      <td>...</td>\n",
              "      <td>...</td>\n",
              "      <td>...</td>\n",
              "      <td>...</td>\n",
              "      <td>...</td>\n",
              "      <td>...</td>\n",
              "      <td>...</td>\n",
              "      <td>...</td>\n",
              "    </tr>\n",
              "    <tr>\n",
              "      <th>209494</th>\n",
              "      <td>ID_TZ99995</td>\n",
              "      <td>16</td>\n",
              "      <td>Female</td>\n",
              "      <td>7th and 8th grade</td>\n",
              "      <td>NaN</td>\n",
              "      <td>High school</td>\n",
              "      <td>Never married</td>\n",
              "      <td>White</td>\n",
              "      <td>All other</td>\n",
              "      <td>Not in labor force</td>\n",
              "      <td>...</td>\n",
              "      <td>US</td>\n",
              "      <td>?</td>\n",
              "      <td>?</td>\n",
              "      <td>?</td>\n",
              "      <td>?</td>\n",
              "      <td>NaN</td>\n",
              "      <td>NaN</td>\n",
              "      <td>NaN</td>\n",
              "      <td>2170.60</td>\n",
              "      <td>Below limit</td>\n",
              "    </tr>\n",
              "    <tr>\n",
              "      <th>209495</th>\n",
              "      <td>ID_TZ99996</td>\n",
              "      <td>78</td>\n",
              "      <td>Male</td>\n",
              "      <td>Bachelors degree(BA AB BS)</td>\n",
              "      <td>NaN</td>\n",
              "      <td>NaN</td>\n",
              "      <td>Married-civilian spouse present</td>\n",
              "      <td>White</td>\n",
              "      <td>All other</td>\n",
              "      <td>Not in labor force</td>\n",
              "      <td>...</td>\n",
              "      <td>Canada</td>\n",
              "      <td>?</td>\n",
              "      <td>?</td>\n",
              "      <td>?</td>\n",
              "      <td>?</td>\n",
              "      <td>NaN</td>\n",
              "      <td>NaN</td>\n",
              "      <td>NaN</td>\n",
              "      <td>1029.57</td>\n",
              "      <td>Below limit</td>\n",
              "    </tr>\n",
              "    <tr>\n",
              "      <th>209496</th>\n",
              "      <td>ID_TZ99997</td>\n",
              "      <td>8</td>\n",
              "      <td>Female</td>\n",
              "      <td>Children</td>\n",
              "      <td>NaN</td>\n",
              "      <td>NaN</td>\n",
              "      <td>Never married</td>\n",
              "      <td>White</td>\n",
              "      <td>All other</td>\n",
              "      <td>Children or Armed Forces</td>\n",
              "      <td>...</td>\n",
              "      <td>US</td>\n",
              "      <td>?</td>\n",
              "      <td>?</td>\n",
              "      <td>?</td>\n",
              "      <td>?</td>\n",
              "      <td>NaN</td>\n",
              "      <td>NaN</td>\n",
              "      <td>NaN</td>\n",
              "      <td>791.61</td>\n",
              "      <td>Below limit</td>\n",
              "    </tr>\n",
              "    <tr>\n",
              "      <th>209497</th>\n",
              "      <td>ID_TZ99998</td>\n",
              "      <td>26</td>\n",
              "      <td>Female</td>\n",
              "      <td>Some college but no degree</td>\n",
              "      <td>Private</td>\n",
              "      <td>NaN</td>\n",
              "      <td>Married-civilian spouse present</td>\n",
              "      <td>White</td>\n",
              "      <td>All other</td>\n",
              "      <td>Children or Armed Forces</td>\n",
              "      <td>...</td>\n",
              "      <td>US</td>\n",
              "      <td>unchanged</td>\n",
              "      <td>NaN</td>\n",
              "      <td>unchanged</td>\n",
              "      <td>unchanged</td>\n",
              "      <td>Same</td>\n",
              "      <td>NaN</td>\n",
              "      <td>NaN</td>\n",
              "      <td>3530.26</td>\n",
              "      <td>Below limit</td>\n",
              "    </tr>\n",
              "    <tr>\n",
              "      <th>209498</th>\n",
              "      <td>ID_TZ99999</td>\n",
              "      <td>19</td>\n",
              "      <td>Male</td>\n",
              "      <td>11th grade</td>\n",
              "      <td>Local government</td>\n",
              "      <td>High school</td>\n",
              "      <td>Never married</td>\n",
              "      <td>Black</td>\n",
              "      <td>All other</td>\n",
              "      <td>Children or Armed Forces</td>\n",
              "      <td>...</td>\n",
              "      <td>US</td>\n",
              "      <td>MSA to MSA</td>\n",
              "      <td>Same</td>\n",
              "      <td>Same county</td>\n",
              "      <td>Same county</td>\n",
              "      <td>No</td>\n",
              "      <td>South</td>\n",
              "      <td>Florida</td>\n",
              "      <td>1987.72</td>\n",
              "      <td>Below limit</td>\n",
              "    </tr>\n",
              "  </tbody>\n",
              "</table>\n",
              "<p>299285 rows × 43 columns</p>\n",
              "</div>\n",
              "      <button class=\"colab-df-convert\" onclick=\"convertToInteractive('df-31025d4c-e5b8-4f39-9566-a1fd791ea3e2')\"\n",
              "              title=\"Convert this dataframe to an interactive table.\"\n",
              "              style=\"display:none;\">\n",
              "        \n",
              "  <svg xmlns=\"http://www.w3.org/2000/svg\" height=\"24px\"viewBox=\"0 0 24 24\"\n",
              "       width=\"24px\">\n",
              "    <path d=\"M0 0h24v24H0V0z\" fill=\"none\"/>\n",
              "    <path d=\"M18.56 5.44l.94 2.06.94-2.06 2.06-.94-2.06-.94-.94-2.06-.94 2.06-2.06.94zm-11 1L8.5 8.5l.94-2.06 2.06-.94-2.06-.94L8.5 2.5l-.94 2.06-2.06.94zm10 10l.94 2.06.94-2.06 2.06-.94-2.06-.94-.94-2.06-.94 2.06-2.06.94z\"/><path d=\"M17.41 7.96l-1.37-1.37c-.4-.4-.92-.59-1.43-.59-.52 0-1.04.2-1.43.59L10.3 9.45l-7.72 7.72c-.78.78-.78 2.05 0 2.83L4 21.41c.39.39.9.59 1.41.59.51 0 1.02-.2 1.41-.59l7.78-7.78 2.81-2.81c.8-.78.8-2.07 0-2.86zM5.41 20L4 18.59l7.72-7.72 1.47 1.35L5.41 20z\"/>\n",
              "  </svg>\n",
              "      </button>\n",
              "      \n",
              "  <style>\n",
              "    .colab-df-container {\n",
              "      display:flex;\n",
              "      flex-wrap:wrap;\n",
              "      gap: 12px;\n",
              "    }\n",
              "\n",
              "    .colab-df-convert {\n",
              "      background-color: #E8F0FE;\n",
              "      border: none;\n",
              "      border-radius: 50%;\n",
              "      cursor: pointer;\n",
              "      display: none;\n",
              "      fill: #1967D2;\n",
              "      height: 32px;\n",
              "      padding: 0 0 0 0;\n",
              "      width: 32px;\n",
              "    }\n",
              "\n",
              "    .colab-df-convert:hover {\n",
              "      background-color: #E2EBFA;\n",
              "      box-shadow: 0px 1px 2px rgba(60, 64, 67, 0.3), 0px 1px 3px 1px rgba(60, 64, 67, 0.15);\n",
              "      fill: #174EA6;\n",
              "    }\n",
              "\n",
              "    [theme=dark] .colab-df-convert {\n",
              "      background-color: #3B4455;\n",
              "      fill: #D2E3FC;\n",
              "    }\n",
              "\n",
              "    [theme=dark] .colab-df-convert:hover {\n",
              "      background-color: #434B5C;\n",
              "      box-shadow: 0px 1px 3px 1px rgba(0, 0, 0, 0.15);\n",
              "      filter: drop-shadow(0px 1px 2px rgba(0, 0, 0, 0.3));\n",
              "      fill: #FFFFFF;\n",
              "    }\n",
              "  </style>\n",
              "\n",
              "      <script>\n",
              "        const buttonEl =\n",
              "          document.querySelector('#df-31025d4c-e5b8-4f39-9566-a1fd791ea3e2 button.colab-df-convert');\n",
              "        buttonEl.style.display =\n",
              "          google.colab.kernel.accessAllowed ? 'block' : 'none';\n",
              "\n",
              "        async function convertToInteractive(key) {\n",
              "          const element = document.querySelector('#df-31025d4c-e5b8-4f39-9566-a1fd791ea3e2');\n",
              "          const dataTable =\n",
              "            await google.colab.kernel.invokeFunction('convertToInteractive',\n",
              "                                                     [key], {});\n",
              "          if (!dataTable) return;\n",
              "\n",
              "          const docLinkHtml = 'Like what you see? Visit the ' +\n",
              "            '<a target=\"_blank\" href=https://colab.research.google.com/notebooks/data_table.ipynb>data table notebook</a>'\n",
              "            + ' to learn more about interactive tables.';\n",
              "          element.innerHTML = '';\n",
              "          dataTable['output_type'] = 'display_data';\n",
              "          await google.colab.output.renderOutput(dataTable, element);\n",
              "          const docLink = document.createElement('div');\n",
              "          docLink.innerHTML = docLinkHtml;\n",
              "          element.appendChild(docLink);\n",
              "        }\n",
              "      </script>\n",
              "    </div>\n",
              "  </div>\n",
              "  "
            ]
          },
          "metadata": {},
          "execution_count": 24
        }
      ]
    },
    {
      "cell_type": "code",
      "source": [
        "result.hist(figsize=(20,20))\n",
        "plt.title(\"Hisogram plot\", size=15, weight='bold')"
      ],
      "metadata": {
        "colab": {
          "base_uri": "https://localhost:8080/",
          "height": 1000
        },
        "id": "7Zkri1Pjwc6G",
        "outputId": "77771899-043a-443e-cfac-d6178a96b26a"
      },
      "execution_count": null,
      "outputs": [
        {
          "output_type": "execute_result",
          "data": {
            "text/plain": [
              "Text(0.5, 1.0, 'Hisogram plot')"
            ]
          },
          "metadata": {},
          "execution_count": 25
        },
        {
          "output_type": "display_data",
          "data": {
            "text/plain": [
              "<Figure size 1440x1440 with 16 Axes>"
            ],
            "image/png": "[encoded data removed]"
          },
          "metadata": {
            "needs_background": "light"
          }
        }
      ]
    },
    {
      "cell_type": "code",
      "source": [
        "result.columns"
      ],
      "metadata": {
        "colab": {
          "base_uri": "https://localhost:8080/"
        },
        "id": "pHmRVB7Nyet5",
        "outputId": "ac33a669-3638-44da-92a6-a811c72c2d4e"
      },
      "execution_count": null,
      "outputs": [
        {
          "output_type": "execute_result",
          "data": {
            "text/plain": [
              "Index(['ID', 'age', 'gender', 'education', 'class', 'education_institute',\n",
              "       'marital_status', 'race', 'is_hispanic', 'employment_commitment',\n",
              "       'unemployment_reason', 'employment_stat', 'wage_per_hour',\n",
              "       'is_labor_union', 'working_week_per_year', 'industry_code',\n",
              "       'industry_code_main', 'occupation_code', 'occupation_code_main',\n",
              "       'total_employed', 'household_stat', 'household_summary',\n",
              "       'under_18_family', 'veterans_admin_questionnaire', 'vet_benefit',\n",
              "       'tax_status', 'gains', 'losses', 'stocks_status', 'citizenship',\n",
              "       'mig_year', 'country_of_birth_own', 'country_of_birth_father',\n",
              "       'country_of_birth_mother', 'migration_code_change_in_msa',\n",
              "       'migration_prev_sunbelt', 'migration_code_move_within_reg',\n",
              "       'migration_code_change_in_reg', 'residence_1_year_ago',\n",
              "       'old_residence_reg', 'old_residence_state', 'importance_of_record',\n",
              "       'income_above_limit'],\n",
              "      dtype='object')"
            ]
          },
          "metadata": {},
          "execution_count": 26
        }
      ]
    },
    {
      "cell_type": "code",
      "source": [
        "df = result[['age','gender','education','marital_status', 'race','employment_commitment','total_employed','wage_per_hour','industry_code_main','occupation_code_main','household_stat','citizenship']].copy()"
      ],
      "metadata": {
        "id": "3yu6N6oQuv4i"
      },
      "execution_count": null,
      "outputs": []
    },
    {
      "cell_type": "code",
      "source": [
        "df.head()"
      ],
      "metadata": {
        "colab": {
          "base_uri": "https://localhost:8080/",
          "height": 354
        },
        "id": "Aa4KCVTtzg5u",
        "outputId": "c709cd0a-0bfa-46ef-9d96-fbb5dcb8219e"
      },
      "execution_count": null,
      "outputs": [
        {
          "output_type": "execute_result",
          "data": {
            "text/plain": [
              "   age   gender                    education  \\\n",
              "0   54     Male         High school graduate   \n",
              "1   53     Male             5th or 6th grade   \n",
              "2   42     Male   Bachelors degree(BA AB BS)   \n",
              "3   16   Female                    9th grade   \n",
              "4   16     Male                    9th grade   \n",
              "\n",
              "                     marital_status    race      employment_commitment  \\\n",
              "0   Married-civilian spouse present   White   Children or Armed Forces   \n",
              "1   Married-civilian spouse present   White        Full-time schedules   \n",
              "2   Married-civilian spouse present   White        Full-time schedules   \n",
              "3                     Never married   White   Children or Armed Forces   \n",
              "4                     Never married   White         Not in labor force   \n",
              "\n",
              "   total_employed  wage_per_hour             industry_code_main  \\\n",
              "0               2            600                 Transportation   \n",
              "1               4              0    Manufacturing-durable goods   \n",
              "2               5              0   Business and repair services   \n",
              "3               6              0    Not in universe or children   \n",
              "4               0              0    Not in universe or children   \n",
              "\n",
              "                     occupation_code_main  \\\n",
              "0      Transportation and material moving   \n",
              "1   Machine operators assmblrs & inspctrs   \n",
              "2                  Professional specialty   \n",
              "3                                     NaN   \n",
              "4                                     NaN   \n",
              "\n",
              "                           household_stat  \\\n",
              "0                             Householder   \n",
              "1                             Householder   \n",
              "2                             Householder   \n",
              "3   Child <18 never marr not in subfamily   \n",
              "4   Child <18 never marr not in subfamily   \n",
              "\n",
              "                            citizenship  \n",
              "0                                Native  \n",
              "1   Foreign born- Not a citizen of U S   \n",
              "2                                Native  \n",
              "3                                Native  \n",
              "4                                Native  "
            ],
            "text/html": [
              "\n",
              "  <div id=\"df-6b41eff2-cf5e-4f7d-bc72-4a591fccf26e\">\n",
              "    <div class=\"colab-df-container\">\n",
              "      <div>\n",
              "<style scoped>\n",
              "    .dataframe tbody tr th:only-of-type {\n",
              "        vertical-align: middle;\n",
              "    }\n",
              "\n",
              "    .dataframe tbody tr th {\n",
              "        vertical-align: top;\n",
              "    }\n",
              "\n",
              "    .dataframe thead th {\n",
              "        text-align: right;\n",
              "    }\n",
              "</style>\n",
              "<table border=\"1\" class=\"dataframe\">\n",
              "  <thead>\n",
              "    <tr style=\"text-align: right;\">\n",
              "      <th></th>\n",
              "      <th>age</th>\n",
              "      <th>gender</th>\n",
              "      <th>education</th>\n",
              "      <th>marital_status</th>\n",
              "      <th>race</th>\n",
              "      <th>employment_commitment</th>\n",
              "      <th>total_employed</th>\n",
              "      <th>wage_per_hour</th>\n",
              "      <th>industry_code_main</th>\n",
              "      <th>occupation_code_main</th>\n",
              "      <th>household_stat</th>\n",
              "      <th>citizenship</th>\n",
              "    </tr>\n",
              "  </thead>\n",
              "  <tbody>\n",
              "    <tr>\n",
              "      <th>0</th>\n",
              "      <td>54</td>\n",
              "      <td>Male</td>\n",
              "      <td>High school graduate</td>\n",
              "      <td>Married-civilian spouse present</td>\n",
              "      <td>White</td>\n",
              "      <td>Children or Armed Forces</td>\n",
              "      <td>2</td>\n",
              "      <td>600</td>\n",
              "      <td>Transportation</td>\n",
              "      <td>Transportation and material moving</td>\n",
              "      <td>Householder</td>\n",
              "      <td>Native</td>\n",
              "    </tr>\n",
              "    <tr>\n",
              "      <th>1</th>\n",
              "      <td>53</td>\n",
              "      <td>Male</td>\n",
              "      <td>5th or 6th grade</td>\n",
              "      <td>Married-civilian spouse present</td>\n",
              "      <td>White</td>\n",
              "      <td>Full-time schedules</td>\n",
              "      <td>4</td>\n",
              "      <td>0</td>\n",
              "      <td>Manufacturing-durable goods</td>\n",
              "      <td>Machine operators assmblrs &amp; inspctrs</td>\n",
              "      <td>Householder</td>\n",
              "      <td>Foreign born- Not a citizen of U S</td>\n",
              "    </tr>\n",
              "    <tr>\n",
              "      <th>2</th>\n",
              "      <td>42</td>\n",
              "      <td>Male</td>\n",
              "      <td>Bachelors degree(BA AB BS)</td>\n",
              "      <td>Married-civilian spouse present</td>\n",
              "      <td>White</td>\n",
              "      <td>Full-time schedules</td>\n",
              "      <td>5</td>\n",
              "      <td>0</td>\n",
              "      <td>Business and repair services</td>\n",
              "      <td>Professional specialty</td>\n",
              "      <td>Householder</td>\n",
              "      <td>Native</td>\n",
              "    </tr>\n",
              "    <tr>\n",
              "      <th>3</th>\n",
              "      <td>16</td>\n",
              "      <td>Female</td>\n",
              "      <td>9th grade</td>\n",
              "      <td>Never married</td>\n",
              "      <td>White</td>\n",
              "      <td>Children or Armed Forces</td>\n",
              "      <td>6</td>\n",
              "      <td>0</td>\n",
              "      <td>Not in universe or children</td>\n",
              "      <td>NaN</td>\n",
              "      <td>Child &lt;18 never marr not in subfamily</td>\n",
              "      <td>Native</td>\n",
              "    </tr>\n",
              "    <tr>\n",
              "      <th>4</th>\n",
              "      <td>16</td>\n",
              "      <td>Male</td>\n",
              "      <td>9th grade</td>\n",
              "      <td>Never married</td>\n",
              "      <td>White</td>\n",
              "      <td>Not in labor force</td>\n",
              "      <td>0</td>\n",
              "      <td>0</td>\n",
              "      <td>Not in universe or children</td>\n",
              "      <td>NaN</td>\n",
              "      <td>Child &lt;18 never marr not in subfamily</td>\n",
              "      <td>Native</td>\n",
              "    </tr>\n",
              "  </tbody>\n",
              "</table>\n",
              "</div>\n",
              "      <button class=\"colab-df-convert\" onclick=\"convertToInteractive('df-6b41eff2-cf5e-4f7d-bc72-4a591fccf26e')\"\n",
              "              title=\"Convert this dataframe to an interactive table.\"\n",
              "              style=\"display:none;\">\n",
              "        \n",
              "  <svg xmlns=\"http://www.w3.org/2000/svg\" height=\"24px\"viewBox=\"0 0 24 24\"\n",
              "       width=\"24px\">\n",
              "    <path d=\"M0 0h24v24H0V0z\" fill=\"none\"/>\n",
              "    <path d=\"M18.56 5.44l.94 2.06.94-2.06 2.06-.94-2.06-.94-.94-2.06-.94 2.06-2.06.94zm-11 1L8.5 8.5l.94-2.06 2.06-.94-2.06-.94L8.5 2.5l-.94 2.06-2.06.94zm10 10l.94 2.06.94-2.06 2.06-.94-2.06-.94-.94-2.06-.94 2.06-2.06.94z\"/><path d=\"M17.41 7.96l-1.37-1.37c-.4-.4-.92-.59-1.43-.59-.52 0-1.04.2-1.43.59L10.3 9.45l-7.72 7.72c-.78.78-.78 2.05 0 2.83L4 21.41c.39.39.9.59 1.41.59.51 0 1.02-.2 1.41-.59l7.78-7.78 2.81-2.81c.8-.78.8-2.07 0-2.86zM5.41 20L4 18.59l7.72-7.72 1.47 1.35L5.41 20z\"/>\n",
              "  </svg>\n",
              "      </button>\n",
              "      \n",
              "  <style>\n",
              "    .colab-df-container {\n",
              "      display:flex;\n",
              "      flex-wrap:wrap;\n",
              "      gap: 12px;\n",
              "    }\n",
              "\n",
              "    .colab-df-convert {\n",
              "      background-color: #E8F0FE;\n",
              "      border: none;\n",
              "      border-radius: 50%;\n",
              "      cursor: pointer;\n",
              "      display: none;\n",
              "      fill: #1967D2;\n",
              "      height: 32px;\n",
              "      padding: 0 0 0 0;\n",
              "      width: 32px;\n",
              "    }\n",
              "\n",
              "    .colab-df-convert:hover {\n",
              "      background-color: #E2EBFA;\n",
              "      box-shadow: 0px 1px 2px rgba(60, 64, 67, 0.3), 0px 1px 3px 1px rgba(60, 64, 67, 0.15);\n",
              "      fill: #174EA6;\n",
              "    }\n",
              "\n",
              "    [theme=dark] .colab-df-convert {\n",
              "      background-color: #3B4455;\n",
              "      fill: #D2E3FC;\n",
              "    }\n",
              "\n",
              "    [theme=dark] .colab-df-convert:hover {\n",
              "      background-color: #434B5C;\n",
              "      box-shadow: 0px 1px 3px 1px rgba(0, 0, 0, 0.15);\n",
              "      filter: drop-shadow(0px 1px 2px rgba(0, 0, 0, 0.3));\n",
              "      fill: #FFFFFF;\n",
              "    }\n",
              "  </style>\n",
              "\n",
              "      <script>\n",
              "        const buttonEl =\n",
              "          document.querySelector('#df-6b41eff2-cf5e-4f7d-bc72-4a591fccf26e button.colab-df-convert');\n",
              "        buttonEl.style.display =\n",
              "          google.colab.kernel.accessAllowed ? 'block' : 'none';\n",
              "\n",
              "        async function convertToInteractive(key) {\n",
              "          const element = document.querySelector('#df-6b41eff2-cf5e-4f7d-bc72-4a591fccf26e');\n",
              "          const dataTable =\n",
              "            await google.colab.kernel.invokeFunction('convertToInteractive',\n",
              "                                                     [key], {});\n",
              "          if (!dataTable) return;\n",
              "\n",
              "          const docLinkHtml = 'Like what you see? Visit the ' +\n",
              "            '<a target=\"_blank\" href=https://colab.research.google.com/notebooks/data_table.ipynb>data table notebook</a>'\n",
              "            + ' to learn more about interactive tables.';\n",
              "          element.innerHTML = '';\n",
              "          dataTable['output_type'] = 'display_data';\n",
              "          await google.colab.output.renderOutput(dataTable, element);\n",
              "          const docLink = document.createElement('div');\n",
              "          docLink.innerHTML = docLinkHtml;\n",
              "          element.appendChild(docLink);\n",
              "        }\n",
              "      </script>\n",
              "    </div>\n",
              "  </div>\n",
              "  "
            ]
          },
          "metadata": {},
          "execution_count": 28
        }
      ]
    },
    {
      "cell_type": "code",
      "source": [
        "df['total_employed'].value_counts().plot.pie();"
      ],
      "metadata": {
        "colab": {
          "base_uri": "https://localhost:8080/",
          "height": 248
        },
        "id": "zlKWTJZ7267e",
        "outputId": "f6e64f79-33f5-4beb-847d-e6fd1dab93a1"
      },
      "execution_count": null,
      "outputs": [
        {
          "output_type": "display_data",
          "data": {
            "text/plain": [
              "<Figure size 432x288 with 1 Axes>"
            ],
            "image/png": "[encoded data removed]"
          },
          "metadata": {}
        }
      ]
    },
    {
      "cell_type": "code",
      "source": [
        "df_test = test_data[['age','gender','education','marital_status', 'race','employment_commitment','total_employed','wage_per_hour','industry_code_main','household_stat','citizenship']].copy()\n",
        "df_train = train_data[['age','gender','education','marital_status', 'race','employment_commitment','total_employed','wage_per_hour','industry_code_main','household_stat','citizenship']].copy()"
      ],
      "metadata": {
        "id": "-k8Do57G34bs"
      },
      "execution_count": null,
      "outputs": []
    },
    {
      "cell_type": "code",
      "source": [
        "df_train.columns"
      ],
      "metadata": {
        "colab": {
          "base_uri": "https://localhost:8080/"
        },
        "id": "oDkMUe8K55QG",
        "outputId": "b1621563-f476-4596-f1ad-610b3257537f"
      },
      "execution_count": null,
      "outputs": [
        {
          "output_type": "execute_result",
          "data": {
            "text/plain": [
              "Index(['age', 'gender', 'education', 'marital_status', 'race',\n",
              "       'employment_commitment', 'total_employed', 'wage_per_hour',\n",
              "       'industry_code_main', 'household_stat', 'citizenship'],\n",
              "      dtype='object')"
            ]
          },
          "metadata": {},
          "execution_count": 31
        }
      ]
    },
    {
      "cell_type": "code",
      "source": [
        "pd.isnull(train_data['income_above_limit']).sum()\n",
        "target_column_name = ['income_above_limit']\n",
        "target_column      = train_data[target_column_name]\n",
        "target_column.head()"
      ],
      "metadata": {
        "colab": {
          "base_uri": "https://localhost:8080/",
          "height": 206
        },
        "id": "K5pycUwiuJ6Q",
        "outputId": "c1c13a51-6fc3-4c5d-eb2f-b9adfdd7ee5a"
      },
      "execution_count": null,
      "outputs": [
        {
          "output_type": "execute_result",
          "data": {
            "text/plain": [
              "  income_above_limit\n",
              "0        Below limit\n",
              "1        Below limit\n",
              "2        Below limit\n",
              "3        Below limit\n",
              "4        Below limit"
            ],
            "text/html": [
              "\n",
              "  <div id=\"df-ca59f1e1-cc17-459e-b2c7-2ebb4f61864d\">\n",
              "    <div class=\"colab-df-container\">\n",
              "      <div>\n",
              "<style scoped>\n",
              "    .dataframe tbody tr th:only-of-type {\n",
              "        vertical-align: middle;\n",
              "    }\n",
              "\n",
              "    .dataframe tbody tr th {\n",
              "        vertical-align: top;\n",
              "    }\n",
              "\n",
              "    .dataframe thead th {\n",
              "        text-align: right;\n",
              "    }\n",
              "</style>\n",
              "<table border=\"1\" class=\"dataframe\">\n",
              "  <thead>\n",
              "    <tr style=\"text-align: right;\">\n",
              "      <th></th>\n",
              "      <th>income_above_limit</th>\n",
              "    </tr>\n",
              "  </thead>\n",
              "  <tbody>\n",
              "    <tr>\n",
              "      <th>0</th>\n",
              "      <td>Below limit</td>\n",
              "    </tr>\n",
              "    <tr>\n",
              "      <th>1</th>\n",
              "      <td>Below limit</td>\n",
              "    </tr>\n",
              "    <tr>\n",
              "      <th>2</th>\n",
              "      <td>Below limit</td>\n",
              "    </tr>\n",
              "    <tr>\n",
              "      <th>3</th>\n",
              "      <td>Below limit</td>\n",
              "    </tr>\n",
              "    <tr>\n",
              "      <th>4</th>\n",
              "      <td>Below limit</td>\n",
              "    </tr>\n",
              "  </tbody>\n",
              "</table>\n",
              "</div>\n",
              "      <button class=\"colab-df-convert\" onclick=\"convertToInteractive('df-ca59f1e1-cc17-459e-b2c7-2ebb4f61864d')\"\n",
              "              title=\"Convert this dataframe to an interactive table.\"\n",
              "              style=\"display:none;\">\n",
              "        \n",
              "  <svg xmlns=\"http://www.w3.org/2000/svg\" height=\"24px\"viewBox=\"0 0 24 24\"\n",
              "       width=\"24px\">\n",
              "    <path d=\"M0 0h24v24H0V0z\" fill=\"none\"/>\n",
              "    <path d=\"M18.56 5.44l.94 2.06.94-2.06 2.06-.94-2.06-.94-.94-2.06-.94 2.06-2.06.94zm-11 1L8.5 8.5l.94-2.06 2.06-.94-2.06-.94L8.5 2.5l-.94 2.06-2.06.94zm10 10l.94 2.06.94-2.06 2.06-.94-2.06-.94-.94-2.06-.94 2.06-2.06.94z\"/><path d=\"M17.41 7.96l-1.37-1.37c-.4-.4-.92-.59-1.43-.59-.52 0-1.04.2-1.43.59L10.3 9.45l-7.72 7.72c-.78.78-.78 2.05 0 2.83L4 21.41c.39.39.9.59 1.41.59.51 0 1.02-.2 1.41-.59l7.78-7.78 2.81-2.81c.8-.78.8-2.07 0-2.86zM5.41 20L4 18.59l7.72-7.72 1.47 1.35L5.41 20z\"/>\n",
              "  </svg>\n",
              "      </button>\n",
              "      \n",
              "  <style>\n",
              "    .colab-df-container {\n",
              "      display:flex;\n",
              "      flex-wrap:wrap;\n",
              "      gap: 12px;\n",
              "    }\n",
              "\n",
              "    .colab-df-convert {\n",
              "      background-color: #E8F0FE;\n",
              "      border: none;\n",
              "      border-radius: 50%;\n",
              "      cursor: pointer;\n",
              "      display: none;\n",
              "      fill: #1967D2;\n",
              "      height: 32px;\n",
              "      padding: 0 0 0 0;\n",
              "      width: 32px;\n",
              "    }\n",
              "\n",
              "    .colab-df-convert:hover {\n",
              "      background-color: #E2EBFA;\n",
              "      box-shadow: 0px 1px 2px rgba(60, 64, 67, 0.3), 0px 1px 3px 1px rgba(60, 64, 67, 0.15);\n",
              "      fill: #174EA6;\n",
              "    }\n",
              "\n",
              "    [theme=dark] .colab-df-convert {\n",
              "      background-color: #3B4455;\n",
              "      fill: #D2E3FC;\n",
              "    }\n",
              "\n",
              "    [theme=dark] .colab-df-convert:hover {\n",
              "      background-color: #434B5C;\n",
              "      box-shadow: 0px 1px 3px 1px rgba(0, 0, 0, 0.15);\n",
              "      filter: drop-shadow(0px 1px 2px rgba(0, 0, 0, 0.3));\n",
              "      fill: #FFFFFF;\n",
              "    }\n",
              "  </style>\n",
              "\n",
              "      <script>\n",
              "        const buttonEl =\n",
              "          document.querySelector('#df-ca59f1e1-cc17-459e-b2c7-2ebb4f61864d button.colab-df-convert');\n",
              "        buttonEl.style.display =\n",
              "          google.colab.kernel.accessAllowed ? 'block' : 'none';\n",
              "\n",
              "        async function convertToInteractive(key) {\n",
              "          const element = document.querySelector('#df-ca59f1e1-cc17-459e-b2c7-2ebb4f61864d');\n",
              "          const dataTable =\n",
              "            await google.colab.kernel.invokeFunction('convertToInteractive',\n",
              "                                                     [key], {});\n",
              "          if (!dataTable) return;\n",
              "\n",
              "          const docLinkHtml = 'Like what you see? Visit the ' +\n",
              "            '<a target=\"_blank\" href=https://colab.research.google.com/notebooks/data_table.ipynb>data table notebook</a>'\n",
              "            + ' to learn more about interactive tables.';\n",
              "          element.innerHTML = '';\n",
              "          dataTable['output_type'] = 'display_data';\n",
              "          await google.colab.output.renderOutput(dataTable, element);\n",
              "          const docLink = document.createElement('div');\n",
              "          docLink.innerHTML = docLinkHtml;\n",
              "          element.appendChild(docLink);\n",
              "        }\n",
              "      </script>\n",
              "    </div>\n",
              "  </div>\n",
              "  "
            ]
          },
          "metadata": {},
          "execution_count": 32
        }
      ]
    },
    {
      "cell_type": "code",
      "source": [
        "target_column['income_above_limit'] = target_column['income_above_limit'].map({'Above limit':1,'Below limit':0})\n",
        "target_column['income_above_limit'].value_counts()"
      ],
      "metadata": {
        "colab": {
          "base_uri": "https://localhost:8080/"
        },
        "id": "zYoDJuBjvHu2",
        "outputId": "f59548cc-84eb-415c-a404-0528ec226984"
      },
      "execution_count": null,
      "outputs": [
        {
          "output_type": "stream",
          "name": "stderr",
          "text": [
            "/usr/local/lib/python3.7/dist-packages/ipykernel_launcher.py:1: SettingWithCopyWarning: \n",
            "A value is trying to be set on a copy of a slice from a DataFrame.\n",
            "Try using .loc[row_indexer,col_indexer] = value instead\n",
            "\n",
            "See the caveats in the documentation: https://pandas.pydata.org/pandas-docs/stable/user_guide/indexing.html#returning-a-view-versus-a-copy\n",
            "  \"\"\"Entry point for launching an IPython kernel.\n"
          ]
        },
        {
          "output_type": "execute_result",
          "data": {
            "text/plain": [
              "0    196501\n",
              "1     12998\n",
              "Name: income_above_limit, dtype: int64"
            ]
          },
          "metadata": {},
          "execution_count": 33
        }
      ]
    },
    {
      "cell_type": "code",
      "source": [
        "print('The class Imbalance in the data is given below')\n",
        "display(train_data['income_above_limit'].value_counts())\n",
        "print('---------------------------------------------------------------\\n')\n",
        "print('The class imbalance in terms of percentage is given below ')\n",
        "display(train_data['income_above_limit'].value_counts(normalize=True))\n",
        "print('----------------------------------------------------------------\\n')\n",
        "pct_df = pd.DataFrame(train_data['income_above_limit'].value_counts(normalize=True)).reset_index().rename({'index':'Target_values','income_above_limit':'Percentage'},axis=1)\n",
        "fig = px.bar(pct_df,x='Target_values',y='Percentage', height=400,width = 400,title='class imbalance')\n",
        "fig.show()"
      ],
      "metadata": {
        "colab": {
          "base_uri": "https://localhost:8080/",
          "height": 637
        },
        "id": "QwAcWt0oxwkg",
        "outputId": "4ced8def-d5bc-48c4-9553-41a7e4e4f0fd"
      },
      "execution_count": null,
      "outputs": [
        {
          "output_type": "stream",
          "name": "stdout",
          "text": [
            "The class Imbalance in the data is given below\n"
          ]
        },
        {
          "output_type": "display_data",
          "data": {
            "text/plain": [
              "Below limit    196501\n",
              "Above limit     12998\n",
              "Name: income_above_limit, dtype: int64"
            ]
          },
          "metadata": {}
        },
        {
          "output_type": "stream",
          "name": "stdout",
          "text": [
            "---------------------------------------------------------------\n",
            "\n",
            "The class imbalance in terms of percentage is given below \n"
          ]
        },
        {
          "output_type": "display_data",
          "data": {
            "text/plain": [
              "Below limit    0.937957\n",
              "Above limit    0.062043\n",
              "Name: income_above_limit, dtype: float64"
            ]
          },
          "metadata": {}
        },
        {
          "output_type": "stream",
          "name": "stdout",
          "text": [
            "----------------------------------------------------------------\n",
            "\n"
          ]
        },
        {
          "output_type": "display_data",
          "data": {
            "text/html": [
              "<html>\n",
              "<head><meta charset=\"utf-8\" /></head>\n",
              "<body>\n",
              "    <div>            <script src=\"https://cdnjs.cloudflare.com/ajax/libs/mathjax/2.7.5/MathJax.js?config=TeX-AMS-MML_SVG\"></script><script type=\"text/javascript\">if (window.MathJax) {MathJax.Hub.Config({SVG: {font: \"STIX-Web\"}});}</script>                <script type=\"text/javascript\">window.PlotlyConfig = {MathJaxConfig: 'local'};</script>\n",
              "        <script src=\"https://cdn.plot.ly/plotly-2.8.3.min.js\"></script>                <div id=\"917daa35-d7ac-4d14-8bf6-5df7a54a4cc3\" class=\"plotly-graph-div\" style=\"height:400px; width:400px;\"></div>            <script type=\"text/javascript\">                                    window.PLOTLYENV=window.PLOTLYENV || {};                                    if (document.getElementById(\"917daa35-d7ac-4d14-8bf6-5df7a54a4cc3\")) {                    Plotly.newPlot(                        \"917daa35-d7ac-4d14-8bf6-5df7a54a4cc3\",                        [{\"alignmentgroup\":\"True\",\"hovertemplate\":\"Target_values=%{x}<br>Percentage=%{y}<extra></extra>\",\"legendgroup\":\"\",\"marker\":{\"color\":\"#636efa\",\"pattern\":{\"shape\":\"\"}},\"name\":\"\",\"offsetgroup\":\"\",\"orientation\":\"v\",\"showlegend\":false,\"textposition\":\"auto\",\"x\":[\"Below limit\",\"Above limit\"],\"xaxis\":\"x\",\"y\":[0.9379567444236011,0.062043255576398934],\"yaxis\":\"y\",\"type\":\"bar\"}],                        {\"template\":{\"data\":{\"bar\":[{\"error_x\":{\"color\":\"#2a3f5f\"},\"error_y\":{\"color\":\"#2a3f5f\"},\"marker\":{\"line\":{\"color\":\"#E5ECF6\",\"width\":0.5},\"pattern\":{\"fillmode\":\"overlay\",\"size\":10,\"solidity\":0.2}},\"type\":\"bar\"}],\"barpolar\":[{\"marker\":{\"line\":{\"color\":\"#E5ECF6\",\"width\":0.5},\"pattern\":{\"fillmode\":\"overlay\",\"size\":10,\"solidity\":0.2}},\"type\":\"barpolar\"}],\"carpet\":[{\"aaxis\":{\"endlinecolor\":\"#2a3f5f\",\"gridcolor\":\"white\",\"linecolor\":\"white\",\"minorgridcolor\":\"white\",\"startlinecolor\":\"#2a3f5f\"},\"baxis\":{\"endlinecolor\":\"#2a3f5f\",\"gridcolor\":\"white\",\"linecolor\":\"white\",\"minorgridcolor\":\"white\",\"startlinecolor\":\"#2a3f5f\"},\"type\":\"carpet\"}],\"choropleth\":[{\"colorbar\":{\"outlinewidth\":0,\"ticks\":\"\"},\"type\":\"choropleth\"}],\"contour\":[{\"colorbar\":{\"outlinewidth\":0,\"ticks\":\"\"},\"colorscale\":[[0.0,\"#0d0887\"],[0.1111111111111111,\"#46039f\"],[0.2222222222222222,\"#7201a8\"],[0.3333333333333333,\"#9c179e\"],[0.4444444444444444,\"#bd3786\"],[0.5555555555555556,\"#d8576b\"],[0.6666666666666666,\"#ed7953\"],[0.7777777777777778,\"#fb9f3a\"],[0.8888888888888888,\"#fdca26\"],[1.0,\"#f0f921\"]],\"type\":\"contour\"}],\"contourcarpet\":[{\"colorbar\":{\"outlinewidth\":0,\"ticks\":\"\"},\"type\":\"contourcarpet\"}],\"heatmap\":[{\"colorbar\":{\"outlinewidth\":0,\"ticks\":\"\"},\"colorscale\":[[0.0,\"#0d0887\"],[0.1111111111111111,\"#46039f\"],[0.2222222222222222,\"#7201a8\"],[0.3333333333333333,\"#9c179e\"],[0.4444444444444444,\"#bd3786\"],[0.5555555555555556,\"#d8576b\"],[0.6666666666666666,\"#ed7953\"],[0.7777777777777778,\"#fb9f3a\"],[0.8888888888888888,\"#fdca26\"],[1.0,\"#f0f921\"]],\"type\":\"heatmap\"}],\"heatmapgl\":[{\"colorbar\":{\"outlinewidth\":0,\"ticks\":\"\"},\"colorscale\":[[0.0,\"#0d0887\"],[0.1111111111111111,\"#46039f\"],[0.2222222222222222,\"#7201a8\"],[0.3333333333333333,\"#9c179e\"],[0.4444444444444444,\"#bd3786\"],[0.5555555555555556,\"#d8576b\"],[0.6666666666666666,\"#ed7953\"],[0.7777777777777778,\"#fb9f3a\"],[0.8888888888888888,\"#fdca26\"],[1.0,\"#f0f921\"]],\"type\":\"heatmapgl\"}],\"histogram\":[{\"marker\":{\"pattern\":{\"fillmode\":\"overlay\",\"size\":10,\"solidity\":0.2}},\"type\":\"histogram\"}],\"histogram2d\":[{\"colorbar\":{\"outlinewidth\":0,\"ticks\":\"\"},\"colorscale\":[[0.0,\"#0d0887\"],[0.1111111111111111,\"#46039f\"],[0.2222222222222222,\"#7201a8\"],[0.3333333333333333,\"#9c179e\"],[0.4444444444444444,\"#bd3786\"],[0.5555555555555556,\"#d8576b\"],[0.6666666666666666,\"#ed7953\"],[0.7777777777777778,\"#fb9f3a\"],[0.8888888888888888,\"#fdca26\"],[1.0,\"#f0f921\"]],\"type\":\"histogram2d\"}],\"histogram2dcontour\":[{\"colorbar\":{\"outlinewidth\":0,\"ticks\":\"\"},\"colorscale\":[[0.0,\"#0d0887\"],[0.1111111111111111,\"#46039f\"],[0.2222222222222222,\"#7201a8\"],[0.3333333333333333,\"#9c179e\"],[0.4444444444444444,\"#bd3786\"],[0.5555555555555556,\"#d8576b\"],[0.6666666666666666,\"#ed7953\"],[0.7777777777777778,\"#fb9f3a\"],[0.8888888888888888,\"#fdca26\"],[1.0,\"#f0f921\"]],\"type\":\"histogram2dcontour\"}],\"mesh3d\":[{\"colorbar\":{\"outlinewidth\":0,\"ticks\":\"\"},\"type\":\"mesh3d\"}],\"parcoords\":[{\"line\":{\"colorbar\":{\"outlinewidth\":0,\"ticks\":\"\"}},\"type\":\"parcoords\"}],\"pie\":[{\"automargin\":true,\"type\":\"pie\"}],\"scatter\":[{\"marker\":{\"colorbar\":{\"outlinewidth\":0,\"ticks\":\"\"}},\"type\":\"scatter\"}],\"scatter3d\":[{\"line\":{\"colorbar\":{\"outlinewidth\":0,\"ticks\":\"\"}},\"marker\":{\"colorbar\":{\"outlinewidth\":0,\"ticks\":\"\"}},\"type\":\"scatter3d\"}],\"scattercarpet\":[{\"marker\":{\"colorbar\":{\"outlinewidth\":0,\"ticks\":\"\"}},\"type\":\"scattercarpet\"}],\"scattergeo\":[{\"marker\":{\"colorbar\":{\"outlinewidth\":0,\"ticks\":\"\"}},\"type\":\"scattergeo\"}],\"scattergl\":[{\"marker\":{\"colorbar\":{\"outlinewidth\":0,\"ticks\":\"\"}},\"type\":\"scattergl\"}],\"scattermapbox\":[{\"marker\":{\"colorbar\":{\"outlinewidth\":0,\"ticks\":\"\"}},\"type\":\"scattermapbox\"}],\"scatterpolar\":[{\"marker\":{\"colorbar\":{\"outlinewidth\":0,\"ticks\":\"\"}},\"type\":\"scatterpolar\"}],\"scatterpolargl\":[{\"marker\":{\"colorbar\":{\"outlinewidth\":0,\"ticks\":\"\"}},\"type\":\"scatterpolargl\"}],\"scatterternary\":[{\"marker\":{\"colorbar\":{\"outlinewidth\":0,\"ticks\":\"\"}},\"type\":\"scatterternary\"}],\"surface\":[{\"colorbar\":{\"outlinewidth\":0,\"ticks\":\"\"},\"colorscale\":[[0.0,\"#0d0887\"],[0.1111111111111111,\"#46039f\"],[0.2222222222222222,\"#7201a8\"],[0.3333333333333333,\"#9c179e\"],[0.4444444444444444,\"#bd3786\"],[0.5555555555555556,\"#d8576b\"],[0.6666666666666666,\"#ed7953\"],[0.7777777777777778,\"#fb9f3a\"],[0.8888888888888888,\"#fdca26\"],[1.0,\"#f0f921\"]],\"type\":\"surface\"}],\"table\":[{\"cells\":{\"fill\":{\"color\":\"#EBF0F8\"},\"line\":{\"color\":\"white\"}},\"header\":{\"fill\":{\"color\":\"#C8D4E3\"},\"line\":{\"color\":\"white\"}},\"type\":\"table\"}]},\"layout\":{\"annotationdefaults\":{\"arrowcolor\":\"#2a3f5f\",\"arrowhead\":0,\"arrowwidth\":1},\"autotypenumbers\":\"strict\",\"coloraxis\":{\"colorbar\":{\"outlinewidth\":0,\"ticks\":\"\"}},\"colorscale\":{\"diverging\":[[0,\"#8e0152\"],[0.1,\"#c51b7d\"],[0.2,\"#de77ae\"],[0.3,\"#f1b6da\"],[0.4,\"#fde0ef\"],[0.5,\"#f7f7f7\"],[0.6,\"#e6f5d0\"],[0.7,\"#b8e186\"],[0.8,\"#7fbc41\"],[0.9,\"#4d9221\"],[1,\"#276419\"]],\"sequential\":[[0.0,\"#0d0887\"],[0.1111111111111111,\"#46039f\"],[0.2222222222222222,\"#7201a8\"],[0.3333333333333333,\"#9c179e\"],[0.4444444444444444,\"#bd3786\"],[0.5555555555555556,\"#d8576b\"],[0.6666666666666666,\"#ed7953\"],[0.7777777777777778,\"#fb9f3a\"],[0.8888888888888888,\"#fdca26\"],[1.0,\"#f0f921\"]],\"sequentialminus\":[[0.0,\"#0d0887\"],[0.1111111111111111,\"#46039f\"],[0.2222222222222222,\"#7201a8\"],[0.3333333333333333,\"#9c179e\"],[0.4444444444444444,\"#bd3786\"],[0.5555555555555556,\"#d8576b\"],[0.6666666666666666,\"#ed7953\"],[0.7777777777777778,\"#fb9f3a\"],[0.8888888888888888,\"#fdca26\"],[1.0,\"#f0f921\"]]},\"colorway\":[\"#636efa\",\"#EF553B\",\"#00cc96\",\"#ab63fa\",\"#FFA15A\",\"#19d3f3\",\"#FF6692\",\"#B6E880\",\"#FF97FF\",\"#FECB52\"],\"font\":{\"color\":\"#2a3f5f\"},\"geo\":{\"bgcolor\":\"white\",\"lakecolor\":\"white\",\"landcolor\":\"#E5ECF6\",\"showlakes\":true,\"showland\":true,\"subunitcolor\":\"white\"},\"hoverlabel\":{\"align\":\"left\"},\"hovermode\":\"closest\",\"mapbox\":{\"style\":\"light\"},\"paper_bgcolor\":\"white\",\"plot_bgcolor\":\"#E5ECF6\",\"polar\":{\"angularaxis\":{\"gridcolor\":\"white\",\"linecolor\":\"white\",\"ticks\":\"\"},\"bgcolor\":\"#E5ECF6\",\"radialaxis\":{\"gridcolor\":\"white\",\"linecolor\":\"white\",\"ticks\":\"\"}},\"scene\":{\"xaxis\":{\"backgroundcolor\":\"#E5ECF6\",\"gridcolor\":\"white\",\"gridwidth\":2,\"linecolor\":\"white\",\"showbackground\":true,\"ticks\":\"\",\"zerolinecolor\":\"white\"},\"yaxis\":{\"backgroundcolor\":\"#E5ECF6\",\"gridcolor\":\"white\",\"gridwidth\":2,\"linecolor\":\"white\",\"showbackground\":true,\"ticks\":\"\",\"zerolinecolor\":\"white\"},\"zaxis\":{\"backgroundcolor\":\"#E5ECF6\",\"gridcolor\":\"white\",\"gridwidth\":2,\"linecolor\":\"white\",\"showbackground\":true,\"ticks\":\"\",\"zerolinecolor\":\"white\"}},\"shapedefaults\":{\"line\":{\"color\":\"#2a3f5f\"}},\"ternary\":{\"aaxis\":{\"gridcolor\":\"white\",\"linecolor\":\"white\",\"ticks\":\"\"},\"baxis\":{\"gridcolor\":\"white\",\"linecolor\":\"white\",\"ticks\":\"\"},\"bgcolor\":\"#E5ECF6\",\"caxis\":{\"gridcolor\":\"white\",\"linecolor\":\"white\",\"ticks\":\"\"}},\"title\":{\"x\":0.05},\"xaxis\":{\"automargin\":true,\"gridcolor\":\"white\",\"linecolor\":\"white\",\"ticks\":\"\",\"title\":{\"standoff\":15},\"zerolinecolor\":\"white\",\"zerolinewidth\":2},\"yaxis\":{\"automargin\":true,\"gridcolor\":\"white\",\"linecolor\":\"white\",\"ticks\":\"\",\"title\":{\"standoff\":15},\"zerolinecolor\":\"white\",\"zerolinewidth\":2}}},\"xaxis\":{\"anchor\":\"y\",\"domain\":[0.0,1.0],\"title\":{\"text\":\"Target_values\"}},\"yaxis\":{\"anchor\":\"x\",\"domain\":[0.0,1.0],\"title\":{\"text\":\"Percentage\"}},\"legend\":{\"tracegroupgap\":0},\"title\":{\"text\":\"class imbalance\"},\"barmode\":\"relative\",\"height\":400,\"width\":400},                        {\"responsive\": true}                    ).then(function(){\n",
              "                            \n",
              "var gd = document.getElementById('917daa35-d7ac-4d14-8bf6-5df7a54a4cc3');\n",
              "var x = new MutationObserver(function (mutations, observer) {{\n",
              "        var display = window.getComputedStyle(gd).display;\n",
              "        if (!display || display === 'none') {{\n",
              "            console.log([gd, 'removed!']);\n",
              "            Plotly.purge(gd);\n",
              "            observer.disconnect();\n",
              "        }}\n",
              "}});\n",
              "\n",
              "// Listen for the removal of the full notebook cells\n",
              "var notebookContainer = gd.closest('#notebook-container');\n",
              "if (notebookContainer) {{\n",
              "    x.observe(notebookContainer, {childList: true});\n",
              "}}\n",
              "\n",
              "// Listen for the clearing of the current output cell\n",
              "var outputEl = gd.closest('.output');\n",
              "if (outputEl) {{\n",
              "    x.observe(outputEl, {childList: true});\n",
              "}}\n",
              "\n",
              "                        })                };                            </script>        </div>\n",
              "</body>\n",
              "</html>"
            ]
          },
          "metadata": {}
        }
      ]
    },
    {
      "cell_type": "code",
      "source": [
        "# print(colored('We see the distribution of NaN values in train data as below','green',attrs=['bold']))\n",
        "# nan_value_plot(train_df)\n",
        "\n",
        "# print('-------------------------------------------------------------------------------------------------')\n",
        "# print('\\n')\n",
        "# print(colored('We see the distribution of NaN values in test data as below','blue',attrs=['bold']))\n",
        "# nan_value_plot(test_df)"
      ],
      "metadata": {
        "id": "qigDve2ox2Yf"
      },
      "execution_count": null,
      "outputs": []
    },
    {
      "cell_type": "code",
      "source": [
        "X_train, X_test, train_y, y_test = train_test_split(df_train, target_column, test_size=0.2, random_state=42,stratify=target_column)"
      ],
      "metadata": {
        "id": "y74hhdH2yM3_"
      },
      "execution_count": null,
      "outputs": []
    },
    {
      "cell_type": "code",
      "source": [
        "cat_cols_index = np.where(df_train.dtypes=='object')[0]\n",
        "for i in range(len(df_train.columns)):\n",
        "    if i in cat_cols_index:\n",
        "        X_train[df_train.columns[i]]   = X_train[df_train.columns[i]].astype(str)\n",
        "        X_test[df_train.columns[i]]  = X_test[df_train.columns[i]].astype(str)\n",
        "        df_test[df_train.columns[i]] = df_test[df_train.columns[i]].astype(str)"
      ],
      "metadata": {
        "id": "s1ZpUtfCyeEO"
      },
      "execution_count": null,
      "outputs": []
    },
    {
      "cell_type": "code",
      "source": [
        "model           = CatBoostClassifier(random_state=42,n_estimators =50 )\n",
        "_               = model.fit(X_train,train_y,cat_features= cat_cols_index)\n"
      ],
      "metadata": {
        "colab": {
          "base_uri": "https://localhost:8080/"
        },
        "id": "CfbNqJe5y0RV",
        "outputId": "b258d2ef-aa29-4b2f-866d-63f8cf870727"
      },
      "execution_count": null,
      "outputs": [
        {
          "output_type": "stream",
          "name": "stdout",
          "text": [
            "Learning rate set to 0.5\n",
            "0:\tlearn: 0.3962592\ttotal: 124ms\tremaining: 6.06s\n",
            "1:\tlearn: 0.2837422\ttotal: 224ms\tremaining: 5.38s\n",
            "2:\tlearn: 0.2305534\ttotal: 306ms\tremaining: 4.8s\n",
            "3:\tlearn: 0.1894431\ttotal: 424ms\tremaining: 4.87s\n",
            "4:\tlearn: 0.1704833\ttotal: 511ms\tremaining: 4.6s\n",
            "5:\tlearn: 0.1610182\ttotal: 599ms\tremaining: 4.39s\n",
            "6:\tlearn: 0.1541872\ttotal: 680ms\tremaining: 4.17s\n",
            "7:\tlearn: 0.1500243\ttotal: 765ms\tremaining: 4.02s\n",
            "8:\tlearn: 0.1476441\ttotal: 865ms\tremaining: 3.94s\n",
            "9:\tlearn: 0.1466971\ttotal: 945ms\tremaining: 3.78s\n",
            "10:\tlearn: 0.1458649\ttotal: 1.03s\tremaining: 3.66s\n",
            "11:\tlearn: 0.1436214\ttotal: 1.11s\tremaining: 3.52s\n",
            "12:\tlearn: 0.1428050\ttotal: 1.19s\tremaining: 3.38s\n",
            "13:\tlearn: 0.1424959\ttotal: 1.27s\tremaining: 3.28s\n",
            "14:\tlearn: 0.1418835\ttotal: 1.35s\tremaining: 3.16s\n",
            "15:\tlearn: 0.1415878\ttotal: 1.43s\tremaining: 3.04s\n",
            "16:\tlearn: 0.1414150\ttotal: 1.51s\tremaining: 2.94s\n",
            "17:\tlearn: 0.1409479\ttotal: 1.6s\tremaining: 2.84s\n",
            "18:\tlearn: 0.1407417\ttotal: 1.67s\tremaining: 2.73s\n",
            "19:\tlearn: 0.1406599\ttotal: 1.75s\tremaining: 2.63s\n",
            "20:\tlearn: 0.1405169\ttotal: 1.85s\tremaining: 2.55s\n",
            "21:\tlearn: 0.1404290\ttotal: 1.93s\tremaining: 2.45s\n",
            "22:\tlearn: 0.1400313\ttotal: 2.01s\tremaining: 2.36s\n",
            "23:\tlearn: 0.1399771\ttotal: 2.09s\tremaining: 2.26s\n",
            "24:\tlearn: 0.1397796\ttotal: 2.16s\tremaining: 2.16s\n",
            "25:\tlearn: 0.1394345\ttotal: 2.25s\tremaining: 2.08s\n",
            "26:\tlearn: 0.1393422\ttotal: 2.33s\tremaining: 1.98s\n",
            "27:\tlearn: 0.1392946\ttotal: 2.41s\tremaining: 1.89s\n",
            "28:\tlearn: 0.1392164\ttotal: 2.49s\tremaining: 1.8s\n",
            "29:\tlearn: 0.1391365\ttotal: 2.58s\tremaining: 1.72s\n",
            "30:\tlearn: 0.1390318\ttotal: 2.66s\tremaining: 1.63s\n",
            "31:\tlearn: 0.1389552\ttotal: 2.74s\tremaining: 1.54s\n",
            "32:\tlearn: 0.1388621\ttotal: 2.9s\tremaining: 1.49s\n",
            "33:\tlearn: 0.1387973\ttotal: 3.1s\tremaining: 1.46s\n",
            "34:\tlearn: 0.1385591\ttotal: 3.29s\tremaining: 1.41s\n",
            "35:\tlearn: 0.1385178\ttotal: 3.51s\tremaining: 1.36s\n",
            "36:\tlearn: 0.1384420\ttotal: 3.71s\tremaining: 1.3s\n",
            "37:\tlearn: 0.1384217\ttotal: 3.96s\tremaining: 1.25s\n",
            "38:\tlearn: 0.1383792\ttotal: 4.15s\tremaining: 1.17s\n",
            "39:\tlearn: 0.1383432\ttotal: 4.41s\tremaining: 1.1s\n",
            "40:\tlearn: 0.1383181\ttotal: 4.66s\tremaining: 1.02s\n",
            "41:\tlearn: 0.1383178\ttotal: 4.85s\tremaining: 923ms\n",
            "42:\tlearn: 0.1382776\ttotal: 5.02s\tremaining: 818ms\n",
            "43:\tlearn: 0.1382724\ttotal: 5.19s\tremaining: 708ms\n",
            "44:\tlearn: 0.1382649\ttotal: 5.33s\tremaining: 592ms\n",
            "45:\tlearn: 0.1381631\ttotal: 5.46s\tremaining: 475ms\n",
            "46:\tlearn: 0.1380842\ttotal: 5.64s\tremaining: 360ms\n",
            "47:\tlearn: 0.1379660\ttotal: 5.86s\tremaining: 244ms\n",
            "48:\tlearn: 0.1379441\ttotal: 6.08s\tremaining: 124ms\n",
            "49:\tlearn: 0.1379429\ttotal: 6.21s\tremaining: 0us\n"
          ]
        }
      ]
    },
    {
      "cell_type": "code",
      "source": [
        "acc_valid = accuracy_score(model.predict(X_test),y_test)\n",
        "\n",
        "print(colored(f'The accuracy attained on the validation set is {acc_valid}','green',attrs=['bold']))\n"
      ],
      "metadata": {
        "id": "heHUcjsHkDqo",
        "colab": {
          "base_uri": "https://localhost:8080/"
        },
        "outputId": "12ca09c3-26bb-4134-c95b-404c25044b61"
      },
      "execution_count": null,
      "outputs": [
        {
          "output_type": "stream",
          "name": "stdout",
          "text": [
            "\u001b[1m\u001b[32mThe accuracy attained on the validation set is 0.9460859188544153\u001b[0m\n"
          ]
        }
      ]
    },
    {
      "cell_type": "code",
      "source": [
        "print('\\n')\n",
        "print('The classification report only on the validation data is below-')\n",
        "print(colored(classification_report(y_test, model.predict(X_test)),'blue',attrs=['bold']))\n",
        "\n",
        "print('The classification report only on the train data is below-')\n",
        "print(colored(classification_report(train_y, model.predict(X_train)),'green',attrs=['bold']))"
      ],
      "metadata": {
        "colab": {
          "base_uri": "https://localhost:8080/"
        },
        "id": "bdqgyh_zzVPk",
        "outputId": "676367c7-3be3-4d31-8c7e-9bba966f3dd3"
      },
      "execution_count": null,
      "outputs": [
        {
          "output_type": "stream",
          "name": "stdout",
          "text": [
            "\n",
            "\n",
            "The classification report only on the validation data is below-\n",
            "\u001b[1m\u001b[34m              precision    recall  f1-score   support\n",
            "\n",
            "           0       0.95      0.99      0.97     39300\n",
            "           1       0.65      0.28      0.40      2600\n",
            "\n",
            "    accuracy                           0.95     41900\n",
            "   macro avg       0.80      0.64      0.68     41900\n",
            "weighted avg       0.94      0.95      0.94     41900\n",
            "\u001b[0m\n",
            "The classification report only on the train data is below-\n",
            "\u001b[1m\u001b[32m              precision    recall  f1-score   support\n",
            "\n",
            "           0       0.95      0.99      0.97    157201\n",
            "           1       0.67      0.29      0.41     10398\n",
            "\n",
            "    accuracy                           0.95    167599\n",
            "   macro avg       0.81      0.64      0.69    167599\n",
            "weighted avg       0.94      0.95      0.94    167599\n",
            "\u001b[0m\n"
          ]
        }
      ]
    },
    {
      "cell_type": "code",
      "source": [
        "parameters = {'objective': 'binary',\n",
        "              'metric': 'auc',\n",
        "              'is_unbalance': 'true',\n",
        "              'boosting': 'gbdt',\n",
        "              'num_leaves': 63,\n",
        "              'feature_fraction': 0.5,\n",
        "              'bagging_fraction': 0.5,\n",
        "              'bagging_freq': 20,\n",
        "              'learning_rate': 0.01,\n",
        "              'verbose': -1\n",
        "             }"
      ],
      "metadata": {
        "id": "WYN4pswwZurC"
      },
      "execution_count": null,
      "outputs": []
    },
    {
      "cell_type": "code",
      "source": [
        "type(df_train)"
      ],
      "metadata": {
        "colab": {
          "base_uri": "https://localhost:8080/"
        },
        "id": "4RAtxWb6bpA5",
        "outputId": "ad322a59-a5f4-463c-e672-c2cdf0ec84a2"
      },
      "execution_count": null,
      "outputs": [
        {
          "output_type": "execute_result",
          "data": {
            "text/plain": [
              "pandas.core.frame.DataFrame"
            ]
          },
          "metadata": {},
          "execution_count": 47
        }
      ]
    },
    {
      "cell_type": "code",
      "source": [],
      "metadata": {
        "id": "Um8MGpKS0Vxn"
      },
      "execution_count": null,
      "outputs": []
    },
    {
      "cell_type": "code",
      "source": [
        "# # Transform categorical features into the appropriate type that is expected by LightGBM\n",
        "# for c in X.columns:\n",
        "#   col_type = X[c].dtype\n",
        "#   if col_type == 'object' or col_type.name == 'category':\n",
        "#   X[c] = X[c].astype('category')\n",
        "# #Train/test split\n",
        "# X_train, X_test, y_train, y_test = train_test_split(X, y, test_size=0.2, random_state=101, stratify=y)\n",
        "# print('length of X_train and x_test: ', len(X_train), len(X_test))\n",
        "# print('length of y_train and y_test: ', len(y_train), len(y_test))\n",
        "# # fit a lightGBM model to the data\n",
        "# start = time()\n",
        "# model = lgb.LGBMClassifier(loss_function= 'Logloss', custom_metric=['Accuracy','AUC'],eval_metric='F1')\n",
        "# model.fit(X_train, y_train, eval_set=(X_test, y_test), feature_name='auto', categorical_feature = 'auto', verbose=50)\n",
        "# model_elapse = time() - start\n",
        "# print('elapse:, ', model_elapse)\n",
        "# print(); print(model)\n",
        "# # make predictions\n",
        "# expected_y  = y_test\n",
        "# y_pred = model.predict(X_test)\n",
        "# # summarize the fit of the model\n",
        "# print(); print(metrics.classification_report(expected_y, y_pred))\n",
        "# print(); print(metrics.confusion_matrix(expected_y, y_pred))"
      ],
      "metadata": {
        "id": "R9h0U3ul0Vrs"
      },
      "execution_count": null,
      "outputs": []
    },
    {
      "cell_type": "code",
      "source": [
        "# for c in df_train.columns:\n",
        "#   col_type = df_train[c].dtype\n",
        "#   if col_type == 'object' or col_type.name == 'category':\n",
        "#     df_train[c] = df_train[c].astype('category')"
      ],
      "metadata": {
        "id": "4eATN_5m0Vlt"
      },
      "execution_count": null,
      "outputs": []
    },
    {
      "cell_type": "code",
      "source": [
        "df=pd.get_dummies('X_train')\n",
        "df.head()"
      ],
      "metadata": {
        "colab": {
          "base_uri": "https://localhost:8080/",
          "height": 81
        },
        "id": "D6suLFGz4fTZ",
        "outputId": "a2de039b-6453-4f6a-b332-cbb81347479e"
      },
      "execution_count": null,
      "outputs": [
        {
          "output_type": "execute_result",
          "data": {
            "text/plain": [
              "   X_train\n",
              "0        1"
            ],
            "text/html": [
              "\n",
              "  <div id=\"df-bcd7b21c-b1dd-4bdb-ac2e-901269322c3f\">\n",
              "    <div class=\"colab-df-container\">\n",
              "      <div>\n",
              "<style scoped>\n",
              "    .dataframe tbody tr th:only-of-type {\n",
              "        vertical-align: middle;\n",
              "    }\n",
              "\n",
              "    .dataframe tbody tr th {\n",
              "        vertical-align: top;\n",
              "    }\n",
              "\n",
              "    .dataframe thead th {\n",
              "        text-align: right;\n",
              "    }\n",
              "</style>\n",
              "<table border=\"1\" class=\"dataframe\">\n",
              "  <thead>\n",
              "    <tr style=\"text-align: right;\">\n",
              "      <th></th>\n",
              "      <th>X_train</th>\n",
              "    </tr>\n",
              "  </thead>\n",
              "  <tbody>\n",
              "    <tr>\n",
              "      <th>0</th>\n",
              "      <td>1</td>\n",
              "    </tr>\n",
              "  </tbody>\n",
              "</table>\n",
              "</div>\n",
              "      <button class=\"colab-df-convert\" onclick=\"convertToInteractive('df-bcd7b21c-b1dd-4bdb-ac2e-901269322c3f')\"\n",
              "              title=\"Convert this dataframe to an interactive table.\"\n",
              "              style=\"display:none;\">\n",
              "        \n",
              "  <svg xmlns=\"http://www.w3.org/2000/svg\" height=\"24px\"viewBox=\"0 0 24 24\"\n",
              "       width=\"24px\">\n",
              "    <path d=\"M0 0h24v24H0V0z\" fill=\"none\"/>\n",
              "    <path d=\"M18.56 5.44l.94 2.06.94-2.06 2.06-.94-2.06-.94-.94-2.06-.94 2.06-2.06.94zm-11 1L8.5 8.5l.94-2.06 2.06-.94-2.06-.94L8.5 2.5l-.94 2.06-2.06.94zm10 10l.94 2.06.94-2.06 2.06-.94-2.06-.94-.94-2.06-.94 2.06-2.06.94z\"/><path d=\"M17.41 7.96l-1.37-1.37c-.4-.4-.92-.59-1.43-.59-.52 0-1.04.2-1.43.59L10.3 9.45l-7.72 7.72c-.78.78-.78 2.05 0 2.83L4 21.41c.39.39.9.59 1.41.59.51 0 1.02-.2 1.41-.59l7.78-7.78 2.81-2.81c.8-.78.8-2.07 0-2.86zM5.41 20L4 18.59l7.72-7.72 1.47 1.35L5.41 20z\"/>\n",
              "  </svg>\n",
              "      </button>\n",
              "      \n",
              "  <style>\n",
              "    .colab-df-container {\n",
              "      display:flex;\n",
              "      flex-wrap:wrap;\n",
              "      gap: 12px;\n",
              "    }\n",
              "\n",
              "    .colab-df-convert {\n",
              "      background-color: #E8F0FE;\n",
              "      border: none;\n",
              "      border-radius: 50%;\n",
              "      cursor: pointer;\n",
              "      display: none;\n",
              "      fill: #1967D2;\n",
              "      height: 32px;\n",
              "      padding: 0 0 0 0;\n",
              "      width: 32px;\n",
              "    }\n",
              "\n",
              "    .colab-df-convert:hover {\n",
              "      background-color: #E2EBFA;\n",
              "      box-shadow: 0px 1px 2px rgba(60, 64, 67, 0.3), 0px 1px 3px 1px rgba(60, 64, 67, 0.15);\n",
              "      fill: #174EA6;\n",
              "    }\n",
              "\n",
              "    [theme=dark] .colab-df-convert {\n",
              "      background-color: #3B4455;\n",
              "      fill: #D2E3FC;\n",
              "    }\n",
              "\n",
              "    [theme=dark] .colab-df-convert:hover {\n",
              "      background-color: #434B5C;\n",
              "      box-shadow: 0px 1px 3px 1px rgba(0, 0, 0, 0.15);\n",
              "      filter: drop-shadow(0px 1px 2px rgba(0, 0, 0, 0.3));\n",
              "      fill: #FFFFFF;\n",
              "    }\n",
              "  </style>\n",
              "\n",
              "      <script>\n",
              "        const buttonEl =\n",
              "          document.querySelector('#df-bcd7b21c-b1dd-4bdb-ac2e-901269322c3f button.colab-df-convert');\n",
              "        buttonEl.style.display =\n",
              "          google.colab.kernel.accessAllowed ? 'block' : 'none';\n",
              "\n",
              "        async function convertToInteractive(key) {\n",
              "          const element = document.querySelector('#df-bcd7b21c-b1dd-4bdb-ac2e-901269322c3f');\n",
              "          const dataTable =\n",
              "            await google.colab.kernel.invokeFunction('convertToInteractive',\n",
              "                                                     [key], {});\n",
              "          if (!dataTable) return;\n",
              "\n",
              "          const docLinkHtml = 'Like what you see? Visit the ' +\n",
              "            '<a target=\"_blank\" href=https://colab.research.google.com/notebooks/data_table.ipynb>data table notebook</a>'\n",
              "            + ' to learn more about interactive tables.';\n",
              "          element.innerHTML = '';\n",
              "          dataTable['output_type'] = 'display_data';\n",
              "          await google.colab.output.renderOutput(dataTable, element);\n",
              "          const docLink = document.createElement('div');\n",
              "          docLink.innerHTML = docLinkHtml;\n",
              "          element.appendChild(docLink);\n",
              "        }\n",
              "      </script>\n",
              "    </div>\n",
              "  </div>\n",
              "  "
            ]
          },
          "metadata": {},
          "execution_count": 57
        }
      ]
    },
    {
      "cell_type": "code",
      "source": [
        "X_train.head()"
      ],
      "metadata": {
        "colab": {
          "base_uri": "https://localhost:8080/",
          "height": 337
        },
        "id": "C3fFonvc49o_",
        "outputId": "5d6f64d2-9f8a-4ea8-b8ca-12fba7cec288"
      },
      "execution_count": null,
      "outputs": [
        {
          "output_type": "execute_result",
          "data": {
            "text/plain": [
              "        age   gender                    education  \\\n",
              "107155   79   Female         High school graduate   \n",
              "176215   49   Female   Bachelors degree(BA AB BS)   \n",
              "112585   78   Female         High school graduate   \n",
              "95985    48     Male                   10th grade   \n",
              "51674    57   Female   Some college but no degree   \n",
              "\n",
              "                          marital_status                        race  \\\n",
              "107155                           Widowed                       White   \n",
              "176215   Married-civilian spouse present                       Black   \n",
              "112585                           Widowed                       White   \n",
              "95985                           Divorced   Asian or Pacific Islander   \n",
              "51674    Married-civilian spouse present                       White   \n",
              "\n",
              "            employment_commitment  total_employed  wage_per_hour  \\\n",
              "107155   Children or Armed Forces               0              0   \n",
              "176215   Children or Armed Forces               6              0   \n",
              "112585   Children or Armed Forces               0              0   \n",
              "95985         Full-time schedules               1              0   \n",
              "51674    Children or Armed Forces               1              0   \n",
              "\n",
              "                  industry_code_main          household_stat  \\\n",
              "107155   Not in universe or children             Householder   \n",
              "176215                     Education   Spouse of householder   \n",
              "112585   Not in universe or children   Nonfamily householder   \n",
              "95985                   Retail trade   Nonfamily householder   \n",
              "51674                   Retail trade   Spouse of householder   \n",
              "\n",
              "                                         citizenship  \n",
              "107155                                        Native  \n",
              "176215                                        Native  \n",
              "112585                                        Native  \n",
              "95985    Foreign born- U S citizen by naturalization  \n",
              "51674                                         Native  "
            ],
            "text/html": [
              "\n",
              "  <div id=\"df-4a931893-950c-4f97-839d-ca03c80709ae\">\n",
              "    <div class=\"colab-df-container\">\n",
              "      <div>\n",
              "<style scoped>\n",
              "    .dataframe tbody tr th:only-of-type {\n",
              "        vertical-align: middle;\n",
              "    }\n",
              "\n",
              "    .dataframe tbody tr th {\n",
              "        vertical-align: top;\n",
              "    }\n",
              "\n",
              "    .dataframe thead th {\n",
              "        text-align: right;\n",
              "    }\n",
              "</style>\n",
              "<table border=\"1\" class=\"dataframe\">\n",
              "  <thead>\n",
              "    <tr style=\"text-align: right;\">\n",
              "      <th></th>\n",
              "      <th>age</th>\n",
              "      <th>gender</th>\n",
              "      <th>education</th>\n",
              "      <th>marital_status</th>\n",
              "      <th>race</th>\n",
              "      <th>employment_commitment</th>\n",
              "      <th>total_employed</th>\n",
              "      <th>wage_per_hour</th>\n",
              "      <th>industry_code_main</th>\n",
              "      <th>household_stat</th>\n",
              "      <th>citizenship</th>\n",
              "    </tr>\n",
              "  </thead>\n",
              "  <tbody>\n",
              "    <tr>\n",
              "      <th>107155</th>\n",
              "      <td>79</td>\n",
              "      <td>Female</td>\n",
              "      <td>High school graduate</td>\n",
              "      <td>Widowed</td>\n",
              "      <td>White</td>\n",
              "      <td>Children or Armed Forces</td>\n",
              "      <td>0</td>\n",
              "      <td>0</td>\n",
              "      <td>Not in universe or children</td>\n",
              "      <td>Householder</td>\n",
              "      <td>Native</td>\n",
              "    </tr>\n",
              "    <tr>\n",
              "      <th>176215</th>\n",
              "      <td>49</td>\n",
              "      <td>Female</td>\n",
              "      <td>Bachelors degree(BA AB BS)</td>\n",
              "      <td>Married-civilian spouse present</td>\n",
              "      <td>Black</td>\n",
              "      <td>Children or Armed Forces</td>\n",
              "      <td>6</td>\n",
              "      <td>0</td>\n",
              "      <td>Education</td>\n",
              "      <td>Spouse of householder</td>\n",
              "      <td>Native</td>\n",
              "    </tr>\n",
              "    <tr>\n",
              "      <th>112585</th>\n",
              "      <td>78</td>\n",
              "      <td>Female</td>\n",
              "      <td>High school graduate</td>\n",
              "      <td>Widowed</td>\n",
              "      <td>White</td>\n",
              "      <td>Children or Armed Forces</td>\n",
              "      <td>0</td>\n",
              "      <td>0</td>\n",
              "      <td>Not in universe or children</td>\n",
              "      <td>Nonfamily householder</td>\n",
              "      <td>Native</td>\n",
              "    </tr>\n",
              "    <tr>\n",
              "      <th>95985</th>\n",
              "      <td>48</td>\n",
              "      <td>Male</td>\n",
              "      <td>10th grade</td>\n",
              "      <td>Divorced</td>\n",
              "      <td>Asian or Pacific Islander</td>\n",
              "      <td>Full-time schedules</td>\n",
              "      <td>1</td>\n",
              "      <td>0</td>\n",
              "      <td>Retail trade</td>\n",
              "      <td>Nonfamily householder</td>\n",
              "      <td>Foreign born- U S citizen by naturalization</td>\n",
              "    </tr>\n",
              "    <tr>\n",
              "      <th>51674</th>\n",
              "      <td>57</td>\n",
              "      <td>Female</td>\n",
              "      <td>Some college but no degree</td>\n",
              "      <td>Married-civilian spouse present</td>\n",
              "      <td>White</td>\n",
              "      <td>Children or Armed Forces</td>\n",
              "      <td>1</td>\n",
              "      <td>0</td>\n",
              "      <td>Retail trade</td>\n",
              "      <td>Spouse of householder</td>\n",
              "      <td>Native</td>\n",
              "    </tr>\n",
              "  </tbody>\n",
              "</table>\n",
              "</div>\n",
              "      <button class=\"colab-df-convert\" onclick=\"convertToInteractive('df-4a931893-950c-4f97-839d-ca03c80709ae')\"\n",
              "              title=\"Convert this dataframe to an interactive table.\"\n",
              "              style=\"display:none;\">\n",
              "        \n",
              "  <svg xmlns=\"http://www.w3.org/2000/svg\" height=\"24px\"viewBox=\"0 0 24 24\"\n",
              "       width=\"24px\">\n",
              "    <path d=\"M0 0h24v24H0V0z\" fill=\"none\"/>\n",
              "    <path d=\"M18.56 5.44l.94 2.06.94-2.06 2.06-.94-2.06-.94-.94-2.06-.94 2.06-2.06.94zm-11 1L8.5 8.5l.94-2.06 2.06-.94-2.06-.94L8.5 2.5l-.94 2.06-2.06.94zm10 10l.94 2.06.94-2.06 2.06-.94-2.06-.94-.94-2.06-.94 2.06-2.06.94z\"/><path d=\"M17.41 7.96l-1.37-1.37c-.4-.4-.92-.59-1.43-.59-.52 0-1.04.2-1.43.59L10.3 9.45l-7.72 7.72c-.78.78-.78 2.05 0 2.83L4 21.41c.39.39.9.59 1.41.59.51 0 1.02-.2 1.41-.59l7.78-7.78 2.81-2.81c.8-.78.8-2.07 0-2.86zM5.41 20L4 18.59l7.72-7.72 1.47 1.35L5.41 20z\"/>\n",
              "  </svg>\n",
              "      </button>\n",
              "      \n",
              "  <style>\n",
              "    .colab-df-container {\n",
              "      display:flex;\n",
              "      flex-wrap:wrap;\n",
              "      gap: 12px;\n",
              "    }\n",
              "\n",
              "    .colab-df-convert {\n",
              "      background-color: #E8F0FE;\n",
              "      border: none;\n",
              "      border-radius: 50%;\n",
              "      cursor: pointer;\n",
              "      display: none;\n",
              "      fill: #1967D2;\n",
              "      height: 32px;\n",
              "      padding: 0 0 0 0;\n",
              "      width: 32px;\n",
              "    }\n",
              "\n",
              "    .colab-df-convert:hover {\n",
              "      background-color: #E2EBFA;\n",
              "      box-shadow: 0px 1px 2px rgba(60, 64, 67, 0.3), 0px 1px 3px 1px rgba(60, 64, 67, 0.15);\n",
              "      fill: #174EA6;\n",
              "    }\n",
              "\n",
              "    [theme=dark] .colab-df-convert {\n",
              "      background-color: #3B4455;\n",
              "      fill: #D2E3FC;\n",
              "    }\n",
              "\n",
              "    [theme=dark] .colab-df-convert:hover {\n",
              "      background-color: #434B5C;\n",
              "      box-shadow: 0px 1px 3px 1px rgba(0, 0, 0, 0.15);\n",
              "      filter: drop-shadow(0px 1px 2px rgba(0, 0, 0, 0.3));\n",
              "      fill: #FFFFFF;\n",
              "    }\n",
              "  </style>\n",
              "\n",
              "      <script>\n",
              "        const buttonEl =\n",
              "          document.querySelector('#df-4a931893-950c-4f97-839d-ca03c80709ae button.colab-df-convert');\n",
              "        buttonEl.style.display =\n",
              "          google.colab.kernel.accessAllowed ? 'block' : 'none';\n",
              "\n",
              "        async function convertToInteractive(key) {\n",
              "          const element = document.querySelector('#df-4a931893-950c-4f97-839d-ca03c80709ae');\n",
              "          const dataTable =\n",
              "            await google.colab.kernel.invokeFunction('convertToInteractive',\n",
              "                                                     [key], {});\n",
              "          if (!dataTable) return;\n",
              "\n",
              "          const docLinkHtml = 'Like what you see? Visit the ' +\n",
              "            '<a target=\"_blank\" href=https://colab.research.google.com/notebooks/data_table.ipynb>data table notebook</a>'\n",
              "            + ' to learn more about interactive tables.';\n",
              "          element.innerHTML = '';\n",
              "          dataTable['output_type'] = 'display_data';\n",
              "          await google.colab.output.renderOutput(dataTable, element);\n",
              "          const docLink = document.createElement('div');\n",
              "          docLink.innerHTML = docLinkHtml;\n",
              "          element.appendChild(docLink);\n",
              "        }\n",
              "      </script>\n",
              "    </div>\n",
              "  </div>\n",
              "  "
            ]
          },
          "metadata": {},
          "execution_count": 54
        }
      ]
    },
    {
      "cell_type": "code",
      "source": [],
      "metadata": {
        "id": "nrXg2WNW49gx"
      },
      "execution_count": null,
      "outputs": []
    },
    {
      "cell_type": "code",
      "source": [
        "X_train, X_test, train_y, y_test = train_test_split(df_train, target_column, test_size=0.2, random_state=42,stratify=target_column)"
      ],
      "metadata": {
        "id": "9BE4PPDw1ARz"
      },
      "execution_count": null,
      "outputs": []
    },
    {
      "cell_type": "code",
      "source": [],
      "metadata": {
        "id": "H6Ychpln1AIL"
      },
      "execution_count": null,
      "outputs": []
    },
    {
      "cell_type": "code",
      "source": [
        "train_data = lightgbm.Dataset(X_train, label=X_train)\n",
        "valid_data = lightgbm.Dataset(X_test, label=X_test)"
      ],
      "metadata": {
        "id": "Yx7XwnLoxQX0"
      },
      "execution_count": null,
      "outputs": []
    },
    {
      "cell_type": "code",
      "source": [
        "model_lgbm = lightgbm.train(parameters,\n",
        "                            train_data,\n",
        "                            valid_sets=valid_data,\n",
        "                            num_boost_round=5000,\n",
        "                            early_stopping_rounds=50)"
      ],
      "metadata": {
        "colab": {
          "base_uri": "https://localhost:8080/",
          "height": 363
        },
        "id": "QaAbeXPEZul4",
        "outputId": "8e87cacb-4c27-416e-ca0d-2d9295166906"
      },
      "execution_count": null,
      "outputs": [
        {
          "output_type": "error",
          "ename": "ValueError",
          "evalue": "ignored",
          "traceback": [
            "\u001b[0;31m---------------------------------------------------------------------------\u001b[0m",
            "\u001b[0;31mValueError\u001b[0m                                Traceback (most recent call last)",
            "\u001b[0;32m<ipython-input-58-a8eeff003ff7>\u001b[0m in \u001b[0;36m<module>\u001b[0;34m\u001b[0m\n\u001b[1;32m      3\u001b[0m                             \u001b[0mvalid_sets\u001b[0m\u001b[0;34m=\u001b[0m\u001b[0mvalid_data\u001b[0m\u001b[0;34m,\u001b[0m\u001b[0;34m\u001b[0m\u001b[0;34m\u001b[0m\u001b[0m\n\u001b[1;32m      4\u001b[0m                             \u001b[0mnum_boost_round\u001b[0m\u001b[0;34m=\u001b[0m\u001b[0;36m5000\u001b[0m\u001b[0;34m,\u001b[0m\u001b[0;34m\u001b[0m\u001b[0;34m\u001b[0m\u001b[0m\n\u001b[0;32m----> 5\u001b[0;31m                             early_stopping_rounds=50)\n\u001b[0m",
            "\u001b[0;32m/usr/local/lib/python3.7/dist-packages/lightgbm/engine.py\u001b[0m in \u001b[0;36mtrain\u001b[0;34m(params, train_set, num_boost_round, valid_sets, valid_names, fobj, feval, init_model, feature_name, categorical_feature, early_stopping_rounds, evals_result, verbose_eval, learning_rates, keep_training_booster, callbacks)\u001b[0m\n\u001b[1;32m    195\u001b[0m     \u001b[0;31m# construct booster\u001b[0m\u001b[0;34m\u001b[0m\u001b[0;34m\u001b[0m\u001b[0;34m\u001b[0m\u001b[0m\n\u001b[1;32m    196\u001b[0m     \u001b[0;32mtry\u001b[0m\u001b[0;34m:\u001b[0m\u001b[0;34m\u001b[0m\u001b[0;34m\u001b[0m\u001b[0m\n\u001b[0;32m--> 197\u001b[0;31m         \u001b[0mbooster\u001b[0m \u001b[0;34m=\u001b[0m \u001b[0mBooster\u001b[0m\u001b[0;34m(\u001b[0m\u001b[0mparams\u001b[0m\u001b[0;34m=\u001b[0m\u001b[0mparams\u001b[0m\u001b[0;34m,\u001b[0m \u001b[0mtrain_set\u001b[0m\u001b[0;34m=\u001b[0m\u001b[0mtrain_set\u001b[0m\u001b[0;34m)\u001b[0m\u001b[0;34m\u001b[0m\u001b[0;34m\u001b[0m\u001b[0m\n\u001b[0m\u001b[1;32m    198\u001b[0m         \u001b[0;32mif\u001b[0m \u001b[0mis_valid_contain_train\u001b[0m\u001b[0;34m:\u001b[0m\u001b[0;34m\u001b[0m\u001b[0;34m\u001b[0m\u001b[0m\n\u001b[1;32m    199\u001b[0m             \u001b[0mbooster\u001b[0m\u001b[0;34m.\u001b[0m\u001b[0mset_train_data_name\u001b[0m\u001b[0;34m(\u001b[0m\u001b[0mtrain_data_name\u001b[0m\u001b[0;34m)\u001b[0m\u001b[0;34m\u001b[0m\u001b[0;34m\u001b[0m\u001b[0m\n",
            "\u001b[0;32m/usr/local/lib/python3.7/dist-packages/lightgbm/basic.py\u001b[0m in \u001b[0;36m__init__\u001b[0;34m(self, params, train_set, model_file, silent)\u001b[0m\n\u001b[1;32m   1550\u001b[0m             \u001b[0mself\u001b[0m\u001b[0;34m.\u001b[0m\u001b[0mhandle\u001b[0m \u001b[0;34m=\u001b[0m \u001b[0mctypes\u001b[0m\u001b[0;34m.\u001b[0m\u001b[0mc_void_p\u001b[0m\u001b[0;34m(\u001b[0m\u001b[0;34m)\u001b[0m\u001b[0;34m\u001b[0m\u001b[0;34m\u001b[0m\u001b[0m\n\u001b[1;32m   1551\u001b[0m             _safe_call(_LIB.LGBM_BoosterCreate(\n\u001b[0;32m-> 1552\u001b[0;31m                 \u001b[0mtrain_set\u001b[0m\u001b[0;34m.\u001b[0m\u001b[0mconstruct\u001b[0m\u001b[0;34m(\u001b[0m\u001b[0;34m)\u001b[0m\u001b[0;34m.\u001b[0m\u001b[0mhandle\u001b[0m\u001b[0;34m,\u001b[0m\u001b[0;34m\u001b[0m\u001b[0;34m\u001b[0m\u001b[0m\n\u001b[0m\u001b[1;32m   1553\u001b[0m                 \u001b[0mc_str\u001b[0m\u001b[0;34m(\u001b[0m\u001b[0mparams_str\u001b[0m\u001b[0;34m)\u001b[0m\u001b[0;34m,\u001b[0m\u001b[0;34m\u001b[0m\u001b[0;34m\u001b[0m\u001b[0m\n\u001b[1;32m   1554\u001b[0m                 ctypes.byref(self.handle)))\n",
            "\u001b[0;32m/usr/local/lib/python3.7/dist-packages/lightgbm/basic.py\u001b[0m in \u001b[0;36mconstruct\u001b[0;34m(self)\u001b[0m\n\u001b[1;32m    999\u001b[0m                                 \u001b[0minit_score\u001b[0m\u001b[0;34m=\u001b[0m\u001b[0mself\u001b[0m\u001b[0;34m.\u001b[0m\u001b[0minit_score\u001b[0m\u001b[0;34m,\u001b[0m \u001b[0mpredictor\u001b[0m\u001b[0;34m=\u001b[0m\u001b[0mself\u001b[0m\u001b[0;34m.\u001b[0m\u001b[0m_predictor\u001b[0m\u001b[0;34m,\u001b[0m\u001b[0;34m\u001b[0m\u001b[0;34m\u001b[0m\u001b[0m\n\u001b[1;32m   1000\u001b[0m                                 \u001b[0msilent\u001b[0m\u001b[0;34m=\u001b[0m\u001b[0mself\u001b[0m\u001b[0;34m.\u001b[0m\u001b[0msilent\u001b[0m\u001b[0;34m,\u001b[0m \u001b[0mfeature_name\u001b[0m\u001b[0;34m=\u001b[0m\u001b[0mself\u001b[0m\u001b[0;34m.\u001b[0m\u001b[0mfeature_name\u001b[0m\u001b[0;34m,\u001b[0m\u001b[0;34m\u001b[0m\u001b[0;34m\u001b[0m\u001b[0m\n\u001b[0;32m-> 1001\u001b[0;31m                                 categorical_feature=self.categorical_feature, params=self.params)\n\u001b[0m\u001b[1;32m   1002\u001b[0m             \u001b[0;32mif\u001b[0m \u001b[0mself\u001b[0m\u001b[0;34m.\u001b[0m\u001b[0mfree_raw_data\u001b[0m\u001b[0;34m:\u001b[0m\u001b[0;34m\u001b[0m\u001b[0;34m\u001b[0m\u001b[0m\n\u001b[1;32m   1003\u001b[0m                 \u001b[0mself\u001b[0m\u001b[0;34m.\u001b[0m\u001b[0mdata\u001b[0m \u001b[0;34m=\u001b[0m \u001b[0;32mNone\u001b[0m\u001b[0;34m\u001b[0m\u001b[0;34m\u001b[0m\u001b[0m\n",
            "\u001b[0;32m/usr/local/lib/python3.7/dist-packages/lightgbm/basic.py\u001b[0m in \u001b[0;36m_lazy_init\u001b[0;34m(self, data, label, reference, weight, group, init_score, predictor, silent, feature_name, categorical_feature, params)\u001b[0m\n\u001b[1;32m    728\u001b[0m                                                                                              \u001b[0mcategorical_feature\u001b[0m\u001b[0;34m,\u001b[0m\u001b[0;34m\u001b[0m\u001b[0;34m\u001b[0m\u001b[0m\n\u001b[1;32m    729\u001b[0m                                                                                              self.pandas_categorical)\n\u001b[0;32m--> 730\u001b[0;31m         \u001b[0mlabel\u001b[0m \u001b[0;34m=\u001b[0m \u001b[0m_label_from_pandas\u001b[0m\u001b[0;34m(\u001b[0m\u001b[0mlabel\u001b[0m\u001b[0;34m)\u001b[0m\u001b[0;34m\u001b[0m\u001b[0;34m\u001b[0m\u001b[0m\n\u001b[0m\u001b[1;32m    731\u001b[0m         \u001b[0mself\u001b[0m\u001b[0;34m.\u001b[0m\u001b[0mdata_has_header\u001b[0m \u001b[0;34m=\u001b[0m \u001b[0;32mFalse\u001b[0m\u001b[0;34m\u001b[0m\u001b[0;34m\u001b[0m\u001b[0m\n\u001b[1;32m    732\u001b[0m         \u001b[0;31m# process for args\u001b[0m\u001b[0;34m\u001b[0m\u001b[0;34m\u001b[0m\u001b[0;34m\u001b[0m\u001b[0m\n",
            "\u001b[0;32m/usr/local/lib/python3.7/dist-packages/lightgbm/basic.py\u001b[0m in \u001b[0;36m_label_from_pandas\u001b[0;34m(label)\u001b[0m\n\u001b[1;32m    288\u001b[0m     \u001b[0;32mif\u001b[0m \u001b[0misinstance\u001b[0m\u001b[0;34m(\u001b[0m\u001b[0mlabel\u001b[0m\u001b[0;34m,\u001b[0m \u001b[0mDataFrame\u001b[0m\u001b[0;34m)\u001b[0m\u001b[0;34m:\u001b[0m\u001b[0;34m\u001b[0m\u001b[0;34m\u001b[0m\u001b[0m\n\u001b[1;32m    289\u001b[0m         \u001b[0;32mif\u001b[0m \u001b[0mlen\u001b[0m\u001b[0;34m(\u001b[0m\u001b[0mlabel\u001b[0m\u001b[0;34m.\u001b[0m\u001b[0mcolumns\u001b[0m\u001b[0;34m)\u001b[0m \u001b[0;34m>\u001b[0m \u001b[0;36m1\u001b[0m\u001b[0;34m:\u001b[0m\u001b[0;34m\u001b[0m\u001b[0;34m\u001b[0m\u001b[0m\n\u001b[0;32m--> 290\u001b[0;31m             \u001b[0;32mraise\u001b[0m \u001b[0mValueError\u001b[0m\u001b[0;34m(\u001b[0m\u001b[0;34m'DataFrame for label cannot have multiple columns'\u001b[0m\u001b[0;34m)\u001b[0m\u001b[0;34m\u001b[0m\u001b[0;34m\u001b[0m\u001b[0m\n\u001b[0m\u001b[1;32m    291\u001b[0m         \u001b[0mlabel_dtypes\u001b[0m \u001b[0;34m=\u001b[0m \u001b[0mlabel\u001b[0m\u001b[0;34m.\u001b[0m\u001b[0mdtypes\u001b[0m\u001b[0;34m\u001b[0m\u001b[0;34m\u001b[0m\u001b[0m\n\u001b[1;32m    292\u001b[0m         \u001b[0;32mif\u001b[0m \u001b[0;32mnot\u001b[0m \u001b[0mall\u001b[0m\u001b[0;34m(\u001b[0m\u001b[0mdtype\u001b[0m\u001b[0;34m.\u001b[0m\u001b[0mname\u001b[0m \u001b[0;32min\u001b[0m \u001b[0mPANDAS_DTYPE_MAPPER\u001b[0m \u001b[0;32mfor\u001b[0m \u001b[0mdtype\u001b[0m \u001b[0;32min\u001b[0m \u001b[0mlabel_dtypes\u001b[0m\u001b[0;34m)\u001b[0m\u001b[0;34m:\u001b[0m\u001b[0;34m\u001b[0m\u001b[0;34m\u001b[0m\u001b[0m\n",
            "\u001b[0;31mValueError\u001b[0m: DataFrame for label cannot have multiple columns"
          ]
        }
      ]
    },
    {
      "cell_type": "code",
      "source": [
        "y_train_pred = model_lgbm.predict(X_train)\n",
        "y_valid_pred = model_lgbm.predict(X_valid)\n",
        "\n",
        "print(\"AUC Train: {:.4f}\\nAUC Valid: {:.4f}\".format(roc_auc_score(y_train, y_train_pred),\n",
        "                                                    roc_auc_score(y_valid, y_valid_pred)))"
      ],
      "metadata": {
        "id": "RcNItXovbbax"
      },
      "execution_count": null,
      "outputs": []
    },
    {
      "cell_type": "code",
      "source": [],
      "metadata": {
        "id": "HGAkpljPZudP"
      },
      "execution_count": null,
      "outputs": []
    },
    {
      "cell_type": "code",
      "source": [],
      "metadata": {
        "id": "XJI3a95FZuW-"
      },
      "execution_count": null,
      "outputs": []
    },
    {
      "cell_type": "code",
      "source": [
        "target_column['income_above_limit'] = target_column['income_above_limit'].map({'Above limit':1,'Below limit':0})\n",
        "target_column['income_above_limit'].value_counts()"
      ],
      "metadata": {
        "id": "5DKRFyLmEj-f"
      },
      "execution_count": null,
      "outputs": []
    },
    {
      "cell_type": "code",
      "source": [
        "subdf                       = pd.read_csv('drive/MyDrive/ColabNotebooks/SampleSubmission.csv')\n",
        "var = subdf['income_above_limit'].map({'Above limit':1,'Below limit':0})\n",
        "subdf['income_above_limit'] = model.predict(df_test)\n",
        "subdf.to_csv('drive/MyDrive/ColabNotebooks/Sample_submission_1.csv',index=False)\n",
        "subdf['income_above_limit'].value_counts(normalize=True)"
      ],
      "metadata": {
        "id": "jY-WEGtj-F3Y"
      },
      "execution_count": null,
      "outputs": []
    },
    {
      "cell_type": "code",
      "source": [
        "cleanup = {\"income_above_limit\":{'Above limit':1,'Below limit':0}}\n",
        "obj_df = subdf.replace(cleanup)\n",
        "obj_df.head()"
      ],
      "metadata": {
        "id": "rc72BuIZFzIc"
      },
      "execution_count": null,
      "outputs": []
    },
    {
      "cell_type": "code",
      "source": [
        "obj_df.to_csv('drive/MyDrive/ColabNotebooks/Sample_submission_2.csv',index=False)\n",
        "obj_df['income_above_limit'].value_counts(normalize=True)"
      ],
      "metadata": {
        "id": "j22eYwVEGhJC"
      },
      "execution_count": null,
      "outputs": []
    },
    {
      "cell_type": "code",
      "source": [
        "subdf                       = pd.read_csv('drive/MyDrive/ColabNotebooks/SampleSubmission.csv')\n",
        "var = subdf['income_above_limit'].map({'Above limit':1,'Below limit':0})\n",
        "subdf['income_above_limit'] = model.predict(df_test)\n",
        "subdf.to_csv('drive/MyDrive/ColabNotebooks/Sample_submission_2.csv',index=False)\n",
        "subdf['income_above_limit'].value_counts(normalize=True)"
      ],
      "metadata": {
        "id": "2nM78D1QGIXz"
      },
      "execution_count": null,
      "outputs": []
    },
    {
      "cell_type": "code",
      "source": [
        "subdf.head()"
      ],
      "metadata": {
        "id": "sBPMiUadFOU2"
      },
      "execution_count": null,
      "outputs": []
    },
    {
      "cell_type": "code",
      "source": [
        "subdf                       = pd.read_csv('drive/MyDrive/ColabNotebooks/SampleSubmission.csv')\n",
        "var = subdf['income_above_limit'].map({'Above limit':1,'Below limit':0})\n",
        "var = model.predict(df_test)\n",
        "subdf.to_csv('drive/MyDrive/ColabNotebooks/Sample_submission_1.csv',index=False)\n",
        "subdf['income_above_limit'].value_counts(normalize=True)\n"
      ],
      "metadata": {
        "id": "XnglcsTYE6En"
      },
      "execution_count": null,
      "outputs": []
    },
    {
      "cell_type": "code",
      "source": [],
      "metadata": {
        "id": "W8Lp8v0m-wPb"
      },
      "execution_count": null,
      "outputs": []
    }
  ]
}